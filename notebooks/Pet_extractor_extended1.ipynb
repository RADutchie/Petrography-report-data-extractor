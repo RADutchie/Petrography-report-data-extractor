{
 "nbformat": 4,
 "nbformat_minor": 2,
 "metadata": {
  "language_info": {
   "name": "python",
   "codemirror_mode": {
    "name": "ipython",
    "version": 3
   },
   "version": "3.7.5-final"
  },
  "orig_nbformat": 2,
  "file_extension": ".py",
  "mimetype": "text/x-python",
  "name": "python",
  "npconvert_exporter": "python",
  "pygments_lexer": "ipython3",
  "version": 3,
  "kernelspec": {
   "name": "python37564bittesseractocrconda98f725dae0474fddbdf9b8103e3233bc",
   "display_name": "Python 3.7.5 64-bit ('tesseractOCR': conda)"
  }
 },
 "cells": [
  {
   "cell_type": "code",
   "execution_count": 1,
   "metadata": {},
   "outputs": [
    {
     "data": {
      "text/plain": "\"\\nA python script that takes a directory continging Mason Petrology reports as pdf's and uses TesseractOCR and openCV to automatically extract the sample numbers, minerals and mineral modes for loading into SA_Geodata\\n\""
     },
     "execution_count": 1,
     "metadata": {},
     "output_type": "execute_result"
    }
   ],
   "source": [
    "#! python3\n",
    "\n",
    "\"\"\"\n",
    "A python script that takes a directory continging Mason Petrology reports as pdf's and uses TesseractOCR and openCV to automatically extract the sample numbers, minerals and mineral modes for loading into SA_Geodata\n",
    "\"\"\""
   ]
  },
  {
   "cell_type": "code",
   "execution_count": 39,
   "metadata": {},
   "outputs": [],
   "source": [
    "#Library imports\n",
    "import os\n",
    "from pdf2image import convert_from_path, convert_from_bytes\n",
    "import tempfile\n",
    "import shutil\n",
    "import re\n",
    "import cv2 \n",
    "import numpy as np\n",
    "import pytesseract\n",
    "from pytesseract import Output\n",
    "import pandas as pd\n",
    "pytesseract.pytesseract.tesseract_cmd = 'C:\\\\Program Files\\\\Tesseract-OCR\\\\tesseract.exe'\n",
    "from timeit import default_timer as timer\n",
    "import json\n",
    "from datetime import datetime\n"
   ]
  },
  {
   "cell_type": "code",
   "execution_count": 3,
   "metadata": {},
   "outputs": [],
   "source": [
    "start = timer()\n",
    "#scan a file directory and return a list of pdf files to iterate over\n",
    "\n",
    "#pdf_path = os.path.normpath(str(input(f'Please input the full path to the pdf files:')))\n",
    "pdf_path = 'C:\\\\Users\\\\dutchr01\\\\MyPyScripts\\\\Mason_pet_extract\\\\Mason_text_ext'\n",
    "\n",
    "\n",
    "pdf_list = []\n",
    "with os.scandir(pdf_path) as it:\n",
    "    for entry in it:\n",
    "        if entry.name.endswith(\".pdf\") and entry.is_file():\n",
    "            pdf_list.append(entry.path)"
   ]
  },
  {
   "cell_type": "code",
   "execution_count": 4,
   "metadata": {},
   "outputs": [
    {
     "name": "stdout",
     "output_type": "stream",
     "text": "['C:\\\\Users\\\\dutchr01\\\\MyPyScripts\\\\Mason_pet_extract\\\\Mason_text_ext\\\\3286.pdf', 'C:\\\\Users\\\\dutchr01\\\\MyPyScripts\\\\Mason_pet_extract\\\\Mason_text_ext\\\\3294.pdf', 'C:\\\\Users\\\\dutchr01\\\\MyPyScripts\\\\Mason_pet_extract\\\\Mason_text_ext\\\\3347.pdf', 'C:\\\\Users\\\\dutchr01\\\\MyPyScripts\\\\Mason_pet_extract\\\\Mason_text_ext\\\\3363.pdf', 'C:\\\\Users\\\\dutchr01\\\\MyPyScripts\\\\Mason_pet_extract\\\\Mason_text_ext\\\\3792.pdf', 'C:\\\\Users\\\\dutchr01\\\\MyPyScripts\\\\Mason_pet_extract\\\\Mason_text_ext\\\\3807.pdf', 'C:\\\\Users\\\\dutchr01\\\\MyPyScripts\\\\Mason_pet_extract\\\\Mason_text_ext\\\\3997.pdf', 'C:\\\\Users\\\\dutchr01\\\\MyPyScripts\\\\Mason_pet_extract\\\\Mason_text_ext\\\\3998.pdf', 'C:\\\\Users\\\\dutchr01\\\\MyPyScripts\\\\Mason_pet_extract\\\\Mason_text_ext\\\\4065.pdf', 'C:\\\\Users\\\\dutchr01\\\\MyPyScripts\\\\Mason_pet_extract\\\\Mason_text_ext\\\\4069.pdf', 'C:\\\\Users\\\\dutchr01\\\\MyPyScripts\\\\Mason_pet_extract\\\\Mason_text_ext\\\\4109.pdf', 'C:\\\\Users\\\\dutchr01\\\\MyPyScripts\\\\Mason_pet_extract\\\\Mason_text_ext\\\\4114.pdf', 'C:\\\\Users\\\\dutchr01\\\\MyPyScripts\\\\Mason_pet_extract\\\\Mason_text_ext\\\\4224.pdf', 'C:\\\\Users\\\\dutchr01\\\\MyPyScripts\\\\Mason_pet_extract\\\\Mason_text_ext\\\\4235.pdf', 'C:\\\\Users\\\\dutchr01\\\\MyPyScripts\\\\Mason_pet_extract\\\\Mason_text_ext\\\\MG3792.pdf', 'C:\\\\Users\\\\dutchr01\\\\MyPyScripts\\\\Mason_pet_extract\\\\Mason_text_ext\\\\MG3807.pdf', 'C:\\\\Users\\\\dutchr01\\\\MyPyScripts\\\\Mason_pet_extract\\\\Mason_text_ext\\\\MG3819.pdf', 'C:\\\\Users\\\\dutchr01\\\\MyPyScripts\\\\Mason_pet_extract\\\\Mason_text_ext\\\\MG3919.pdf', 'C:\\\\Users\\\\dutchr01\\\\MyPyScripts\\\\Mason_pet_extract\\\\Mason_text_ext\\\\MG3920.pdf', 'C:\\\\Users\\\\dutchr01\\\\MyPyScripts\\\\Mason_pet_extract\\\\Mason_text_ext\\\\MG3997.pdf', 'C:\\\\Users\\\\dutchr01\\\\MyPyScripts\\\\Mason_pet_extract\\\\Mason_text_ext\\\\MG4051.pdf', 'C:\\\\Users\\\\dutchr01\\\\MyPyScripts\\\\Mason_pet_extract\\\\Mason_text_ext\\\\MG4058.pdf', 'C:\\\\Users\\\\dutchr01\\\\MyPyScripts\\\\Mason_pet_extract\\\\Mason_text_ext\\\\MG4188.pdf', 'C:\\\\Users\\\\dutchr01\\\\MyPyScripts\\\\Mason_pet_extract\\\\Mason_text_ext\\\\MG4196.pdf', 'C:\\\\Users\\\\dutchr01\\\\MyPyScripts\\\\Mason_pet_extract\\\\Mason_text_ext\\\\MG4224.pdf']\n"
    }
   ],
   "source": [
    "\n",
    "print(pdf_list)  # Print statement for testing"
   ]
  },
  {
   "cell_type": "code",
   "execution_count": 5,
   "metadata": {},
   "outputs": [],
   "source": [
    "#create a temp directory and Convert pdf pages to individual jpg images for OCR and image extraction\n",
    "jpg_path_list = []\n",
    "temp_dir = tempfile.TemporaryDirectory()\n",
    "\n",
    "for pdf in pdf_list:\n",
    "    images = convert_from_path(pdf, dpi = 300, output_folder=temp_dir.name,fmt='jpg')\n",
    "    \n",
    "# close PIL image objects\n",
    "for im in images:\n",
    "    im.close()\n",
    "\n",
    "#scan a file directory and return a list of jpg files to iterate over\n",
    "#with os.scandir(temp_dir.name) as it:\n",
    "    #for entry in it:\n",
    "        #if entry.name.endswith(\".jpg\") and entry.is_file():\n",
    "            #jpg_path_list.append(entry.path)\n"
   ]
  },
  {
   "cell_type": "code",
   "execution_count": 6,
   "metadata": {},
   "outputs": [],
   "source": [
    "\n",
    "\n",
    "# func to detect vertical and horizontal lines from image\n",
    "def lines(im, x=50): # x number between 1 and 255 (default 50)\n",
    "    # Defining a kernel length\n",
    "    global horizontal_lines_img, verticle_lines_img, kernel\n",
    "    kernel_length = np.array(im).shape[1]//x\n",
    "\n",
    "    # A verticle kernel of (1 X kernel_length), which will detect all the verticle lines from the image.\n",
    "    verticle_kernel = cv2.getStructuringElement(cv2.MORPH_RECT, (1, kernel_length))\n",
    "    # A horizontal kernel of (kernel_length X 1), which will help to detect all the horizontal line from the image.\n",
    "    hori_kernel = cv2.getStructuringElement(cv2.MORPH_RECT, (kernel_length, 1))\n",
    "    # A kernel of (3 X 3) ones.\n",
    "    kernel = cv2.getStructuringElement(cv2.MORPH_RECT, (3, 3))\n",
    "    # Morphological operation to detect vertical lines from an image\n",
    "    img_temp1 = cv2.erode(binary_image, verticle_kernel, iterations=3)\n",
    "    verticle_lines_img = cv2.dilate(img_temp1, verticle_kernel, iterations=3)\n",
    "    #cv2.imwrite(\"verticle_lines.jpg\",verticle_lines_img)\n",
    "    # Morphological operation to detect horizontal lines from an image\n",
    "    img_temp2 = cv2.erode(binary_image, hori_kernel, iterations=3)\n",
    "    horizontal_lines_img = cv2.dilate(img_temp2, hori_kernel, iterations=3)\n",
    "\n",
    "#func to sort the found contours\n",
    "def sort_contours(cnts, method=\"left-to-right\"):\n",
    "    # initialize the reverse flag and sort index\n",
    "    reverse = False\n",
    "    i = 0\n",
    "\n",
    "    # handle if we need to sort in reverse\n",
    "    if method == \"right-to-left\" or method == \"bottom-to-top\":\n",
    "        reverse = True\n",
    "\n",
    "    # handle if we are sorting against the y-coordinate rather than\n",
    "    # the x-coordinate of the bounding box\n",
    "    if method == \"top-to-bottom\" or method == \"bottom-to-top\":\n",
    "        i = 1\n",
    "\n",
    "    # construct the list of bounding boxes and sort them from top to\n",
    "    # bottom\n",
    "    boundingBoxes = [cv2.boundingRect(c) for c in cnts]\n",
    "    (cnts, boundingBoxes) = zip(*sorted(zip(cnts, boundingBoxes),\n",
    "        key=lambda b:b[1][i], reverse=reverse))\n",
    "\n",
    "    # return the list of sorted contours and bounding boxes\n",
    "    return (cnts, boundingBoxes)"
   ]
  },
  {
   "cell_type": "code",
   "execution_count": 7,
   "metadata": {},
   "outputs": [],
   "source": [
    "#print(jpg_path_list)  #print statement for testing"
   ]
  },
  {
   "cell_type": "code",
   "execution_count": 8,
   "metadata": {},
   "outputs": [
    {
     "name": "stdout",
     "output_type": "stream",
     "text": "c-4058-85cd-53675db533a0-09.jpg\nC:\\Temp\\tmp64lfaz_y\\db4c2128-a86c-4058-85cd-53675db533a0-10.jpg\nC:\\Temp\\tmp64lfaz_y\\db4c2128-a86c-4058-85cd-53675db533a0-11.jpg\nC:\\Temp\\tmp64lfaz_y\\db4c2128-a86c-4058-85cd-53675db533a0-12.jpg\nC:\\Temp\\tmp64lfaz_y\\db4c2128-a86c-4058-85cd-53675db533a0-13.jpg\nC:\\Temp\\tmp64lfaz_y\\db4c2128-a86c-4058-85cd-53675db533a0-14.jpg\nC:\\Temp\\tmp64lfaz_y\\db4c2128-a86c-4058-85cd-53675db533a0-15.jpg\nC:\\Temp\\tmp64lfaz_y\\db4c2128-a86c-4058-85cd-53675db533a0-16.jpg\nC:\\Temp\\tmp64lfaz_y\\db4c2128-a86c-4058-85cd-53675db533a0-17.jpg\nC:\\Temp\\tmp64lfaz_y\\db4c2128-a86c-4058-85cd-53675db533a0-18.jpg\nC:\\Temp\\tmp64lfaz_y\\db4c2128-a86c-4058-85cd-53675db533a0-19.jpg\nC:\\Temp\\tmp64lfaz_y\\db4c2128-a86c-4058-85cd-53675db533a0-20.jpg\nC:\\Temp\\tmp64lfaz_y\\db4c2128-a86c-4058-85cd-53675db533a0-21.jpg\nC:\\Temp\\tmp64lfaz_y\\db4c2128-a86c-4058-85cd-53675db533a0-22.jpg\nC:\\Temp\\tmp64lfaz_y\\db4c2128-a86c-4058-85cd-53675db533a0-23.jpg\nC:\\Temp\\tmp64lfaz_y\\db4c2128-a86c-4058-85cd-53675db533a0-24.jpg\nC:\\Temp\\tmp64lfaz_y\\db4c2128-a86c-4058-85cd-53675db533a0-25.jpg\nC:\\Temp\\tmp64lfaz_y\\db4c2128-a86c-4058-85cd-53675db533a0-26.jpg\nC:\\Temp\\tmp64lfaz_y\\db4c2128-a86c-4058-85cd-53675db533a0-27.jpg\nC:\\Temp\\tmp64lfaz_y\\db4c2128-a86c-4058-85cd-53675db533a0-28.jpg\nC:\\Temp\\tmp64lfaz_y\\db4c2128-a86c-4058-85cd-53675db533a0-29.jpg\nC:\\Temp\\tmp64lfaz_y\\db4c2128-a86c-4058-85cd-53675db533a0-30.jpg\nC:\\Temp\\tmp64lfaz_y\\db4c2128-a86c-4058-85cd-53675db533a0-31.jpg\nC:\\Temp\\tmp64lfaz_y\\db4c2128-a86c-4058-85cd-53675db533a0-32.jpg\nC:\\Temp\\tmp64lfaz_y\\db4c2128-a86c-4058-85cd-53675db533a0-33.jpg\nC:\\Temp\\tmp64lfaz_y\\db4c2128-a86c-4058-85cd-53675db533a0-34.jpg\nC:\\Temp\\tmp64lfaz_y\\db4c2128-a86c-4058-85cd-53675db533a0-35.jpg\nC:\\Temp\\tmp64lfaz_y\\db4c2128-a86c-4058-85cd-53675db533a0-36.jpg\nC:\\Temp\\tmp64lfaz_y\\db4c2128-a86c-4058-85cd-53675db533a0-37.jpg\nC:\\Temp\\tmp64lfaz_y\\db4c2128-a86c-4058-85cd-53675db533a0-38.jpg\nC:\\Temp\\tmp64lfaz_y\\db4c2128-a86c-4058-85cd-53675db533a0-39.jpg\nC:\\Temp\\tmp64lfaz_y\\db4c2128-a86c-4058-85cd-53675db533a0-40.jpg\nC:\\Temp\\tmp64lfaz_y\\db4c2128-a86c-4058-85cd-53675db533a0-41.jpg\nC:\\Temp\\tmp64lfaz_y\\db4c2128-a86c-4058-85cd-53675db533a0-42.jpg\nC:\\Temp\\tmp64lfaz_y\\db4c2128-a86c-4058-85cd-53675db533a0-43.jpg\nC:\\Temp\\tmp64lfaz_y\\db4c2128-a86c-4058-85cd-53675db533a0-44.jpg\nC:\\Temp\\tmp64lfaz_y\\db4c2128-a86c-4058-85cd-53675db533a0-45.jpg\nC:\\Temp\\tmp64lfaz_y\\db4c2128-a86c-4058-85cd-53675db533a0-46.jpg\nC:\\Temp\\tmp64lfaz_y\\db4c2128-a86c-4058-85cd-53675db533a0-47.jpg\nC:\\Temp\\tmp64lfaz_y\\e0617ec2-aacb-4306-8107-f408d580011b-01.jpg\nC:\\Temp\\tmp64lfaz_y\\e0617ec2-aacb-4306-8107-f408d580011b-02.jpg\nC:\\Temp\\tmp64lfaz_y\\e0617ec2-aacb-4306-8107-f408d580011b-03.jpg\nC:\\Temp\\tmp64lfaz_y\\e0617ec2-aacb-4306-8107-f408d580011b-04.jpg\nC:\\Temp\\tmp64lfaz_y\\e0617ec2-aacb-4306-8107-f408d580011b-05.jpg\nC:\\Temp\\tmp64lfaz_y\\e0617ec2-aacb-4306-8107-f408d580011b-06.jpg\nC:\\Temp\\tmp64lfaz_y\\e0617ec2-aacb-4306-8107-f408d580011b-07.jpg\nC:\\Temp\\tmp64lfaz_y\\e0617ec2-aacb-4306-8107-f408d580011b-08.jpg\nC:\\Temp\\tmp64lfaz_y\\e0617ec2-aacb-4306-8107-f408d580011b-09.jpg\nC:\\Temp\\tmp64lfaz_y\\e0617ec2-aacb-4306-8107-f408d580011b-10.jpg\nC:\\Temp\\tmp64lfaz_y\\e0617ec2-aacb-4306-8107-f408d580011b-11.jpg\nC:\\Temp\\tmp64lfaz_y\\e0617ec2-aacb-4306-8107-f408d580011b-12.jpg\nC:\\Temp\\tmp64lfaz_y\\e0617ec2-aacb-4306-8107-f408d580011b-13.jpg\nC:\\Temp\\tmp64lfaz_y\\e0617ec2-aacb-4306-8107-f408d580011b-14.jpg\nC:\\Temp\\tmp64lfaz_y\\e0617ec2-aacb-4306-8107-f408d580011b-15.jpg\nC:\\Temp\\tmp64lfaz_y\\e0617ec2-aacb-4306-8107-f408d580011b-16.jpg\nC:\\Temp\\tmp64lfaz_y\\e0617ec2-aacb-4306-8107-f408d580011b-17.jpg\nC:\\Temp\\tmp64lfaz_y\\e0617ec2-aacb-4306-8107-f408d580011b-18.jpg\nC:\\Temp\\tmp64lfaz_y\\e0617ec2-aacb-4306-8107-f408d580011b-19.jpg\nC:\\Temp\\tmp64lfaz_y\\e0617ec2-aacb-4306-8107-f408d580011b-20.jpg\nC:\\Temp\\tmp64lfaz_y\\ef6b22c1-d51f-48bd-9b02-bc8183ed131e-01.jpg\nC:\\Temp\\tmp64lfaz_y\\ef6b22c1-d51f-48bd-9b02-bc8183ed131e-02.jpg\nC:\\Temp\\tmp64lfaz_y\\ef6b22c1-d51f-48bd-9b02-bc8183ed131e-03.jpg\nC:\\Temp\\tmp64lfaz_y\\ef6b22c1-d51f-48bd-9b02-bc8183ed131e-04.jpg\nC:\\Temp\\tmp64lfaz_y\\ef6b22c1-d51f-48bd-9b02-bc8183ed131e-05.jpg\nC:\\Temp\\tmp64lfaz_y\\ef6b22c1-d51f-48bd-9b02-bc8183ed131e-06.jpg\nC:\\Temp\\tmp64lfaz_y\\ef6b22c1-d51f-48bd-9b02-bc8183ed131e-07.jpg\nC:\\Temp\\tmp64lfaz_y\\ef6b22c1-d51f-48bd-9b02-bc8183ed131e-08.jpg\nC:\\Temp\\tmp64lfaz_y\\ef6b22c1-d51f-48bd-9b02-bc8183ed131e-09.jpg\nC:\\Temp\\tmp64lfaz_y\\ef6b22c1-d51f-48bd-9b02-bc8183ed131e-10.jpg\nC:\\Temp\\tmp64lfaz_y\\ef6b22c1-d51f-48bd-9b02-bc8183ed131e-11.jpg\nC:\\Temp\\tmp64lfaz_y\\ef6b22c1-d51f-48bd-9b02-bc8183ed131e-12.jpg\nC:\\Temp\\tmp64lfaz_y\\ef6b22c1-d51f-48bd-9b02-bc8183ed131e-13.jpg\nC:\\Temp\\tmp64lfaz_y\\ef6b22c1-d51f-48bd-9b02-bc8183ed131e-14.jpg\nC:\\Temp\\tmp64lfaz_y\\ef6b22c1-d51f-48bd-9b02-bc8183ed131e-15.jpg\nC:\\Temp\\tmp64lfaz_y\\ef6b22c1-d51f-48bd-9b02-bc8183ed131e-16.jpg\nC:\\Temp\\tmp64lfaz_y\\ef6b22c1-d51f-48bd-9b02-bc8183ed131e-17.jpg\nC:\\Temp\\tmp64lfaz_y\\ef6b22c1-d51f-48bd-9b02-bc8183ed131e-18.jpg\nC:\\Temp\\tmp64lfaz_y\\ef6b22c1-d51f-48bd-9b02-bc8183ed131e-19.jpg\nC:\\Temp\\tmp64lfaz_y\\ef6b22c1-d51f-48bd-9b02-bc8183ed131e-20.jpg\nC:\\Temp\\tmp64lfaz_y\\ef6b22c1-d51f-48bd-9b02-bc8183ed131e-21.jpg\nC:\\Temp\\tmp64lfaz_y\\ef6b22c1-d51f-48bd-9b02-bc8183ed131e-22.jpg\nC:\\Temp\\tmp64lfaz_y\\ef6b22c1-d51f-48bd-9b02-bc8183ed131e-23.jpg\nC:\\Temp\\tmp64lfaz_y\\ef6b22c1-d51f-48bd-9b02-bc8183ed131e-24.jpg\nC:\\Temp\\tmp64lfaz_y\\ef6b22c1-d51f-48bd-9b02-bc8183ed131e-25.jpg\nC:\\Temp\\tmp64lfaz_y\\ef6b22c1-d51f-48bd-9b02-bc8183ed131e-26.jpg\nC:\\Temp\\tmp64lfaz_y\\ef6b22c1-d51f-48bd-9b02-bc8183ed131e-27.jpg\nC:\\Temp\\tmp64lfaz_y\\ef6b22c1-d51f-48bd-9b02-bc8183ed131e-28.jpg\nC:\\Temp\\tmp64lfaz_y\\ef6b22c1-d51f-48bd-9b02-bc8183ed131e-29.jpg\nC:\\Temp\\tmp64lfaz_y\\ef6b22c1-d51f-48bd-9b02-bc8183ed131e-30.jpg\nC:\\Temp\\tmp64lfaz_y\\ef6b22c1-d51f-48bd-9b02-bc8183ed131e-31.jpg\nC:\\Temp\\tmp64lfaz_y\\ef6b22c1-d51f-48bd-9b02-bc8183ed131e-32.jpg\nC:\\Temp\\tmp64lfaz_y\\ef6b22c1-d51f-48bd-9b02-bc8183ed131e-33.jpg\nC:\\Temp\\tmp64lfaz_y\\ef6b22c1-d51f-48bd-9b02-bc8183ed131e-34.jpg\nC:\\Temp\\tmp64lfaz_y\\ef6b22c1-d51f-48bd-9b02-bc8183ed131e-35.jpg\nC:\\Temp\\tmp64lfaz_y\\ef6b22c1-d51f-48bd-9b02-bc8183ed131e-36.jpg\nC:\\Temp\\tmp64lfaz_y\\ef6b22c1-d51f-48bd-9b02-bc8183ed131e-37.jpg\nC:\\Temp\\tmp64lfaz_y\\ef6b22c1-d51f-48bd-9b02-bc8183ed131e-38.jpg\nC:\\Temp\\tmp64lfaz_y\\ef6b22c1-d51f-48bd-9b02-bc8183ed131e-39.jpg\nC:\\Temp\\tmp64lfaz_y\\ef6b22c1-d51f-48bd-9b02-bc8183ed131e-40.jpg\nC:\\Temp\\tmp64lfaz_y\\ef6b22c1-d51f-48bd-9b02-bc8183ed131e-41.jpg\nC:\\Temp\\tmp64lfaz_y\\ef6b22c1-d51f-48bd-9b02-bc8183ed131e-42.jpg\nC:\\Temp\\tmp64lfaz_y\\ef6b22c1-d51f-48bd-9b02-bc8183ed131e-43.jpg\nC:\\Temp\\tmp64lfaz_y\\ef6b22c1-d51f-48bd-9b02-bc8183ed131e-44.jpg\nC:\\Temp\\tmp64lfaz_y\\ef6b22c1-d51f-48bd-9b02-bc8183ed131e-45.jpg\nC:\\Temp\\tmp64lfaz_y\\ef6b22c1-d51f-48bd-9b02-bc8183ed131e-46.jpg\nC:\\Temp\\tmp64lfaz_y\\ef6b22c1-d51f-48bd-9b02-bc8183ed131e-47.jpg\nC:\\Temp\\tmp64lfaz_y\\ef6b22c1-d51f-48bd-9b02-bc8183ed131e-48.jpg\nC:\\Temp\\tmp64lfaz_y\\ef6b22c1-d51f-48bd-9b02-bc8183ed131e-49.jpg\nC:\\Temp\\tmp64lfaz_y\\ef6b22c1-d51f-48bd-9b02-bc8183ed131e-50.jpg\nC:\\Temp\\tmp64lfaz_y\\ef6b22c1-d51f-48bd-9b02-bc8183ed131e-51.jpg\nC:\\Temp\\tmp64lfaz_y\\ef6b22c1-d51f-48bd-9b02-bc8183ed131e-52.jpg\nC:\\Temp\\tmp64lfaz_y\\ef6b22c1-d51f-48bd-9b02-bc8183ed131e-53.jpg\nC:\\Temp\\tmp64lfaz_y\\ef6b22c1-d51f-48bd-9b02-bc8183ed131e-54.jpg\nC:\\Temp\\tmp64lfaz_y\\ef6b22c1-d51f-48bd-9b02-bc8183ed131e-55.jpg\nC:\\Temp\\tmp64lfaz_y\\ef6b22c1-d51f-48bd-9b02-bc8183ed131e-56.jpg\nC:\\Temp\\tmp64lfaz_y\\ef6b22c1-d51f-48bd-9b02-bc8183ed131e-57.jpg\nC:\\Temp\\tmp64lfaz_y\\ef6b22c1-d51f-48bd-9b02-bc8183ed131e-58.jpg\nC:\\Temp\\tmp64lfaz_y\\ef6b22c1-d51f-48bd-9b02-bc8183ed131e-59.jpg\nC:\\Temp\\tmp64lfaz_y\\ef6b22c1-d51f-48bd-9b02-bc8183ed131e-60.jpg\nC:\\Temp\\tmp64lfaz_y\\ef6b22c1-d51f-48bd-9b02-bc8183ed131e-61.jpg\nC:\\Temp\\tmp64lfaz_y\\ef6b22c1-d51f-48bd-9b02-bc8183ed131e-62.jpg\nC:\\Temp\\tmp64lfaz_y\\ef6b22c1-d51f-48bd-9b02-bc8183ed131e-63.jpg\nC:\\Temp\\tmp64lfaz_y\\ef6b22c1-d51f-48bd-9b02-bc8183ed131e-64.jpg\nC:\\Temp\\tmp64lfaz_y\\ef6b22c1-d51f-48bd-9b02-bc8183ed131e-65.jpg\nC:\\Temp\\tmp64lfaz_y\\ef6b22c1-d51f-48bd-9b02-bc8183ed131e-66.jpg\nC:\\Temp\\tmp64lfaz_y\\ef6b22c1-d51f-48bd-9b02-bc8183ed131e-67.jpg\nC:\\Temp\\tmp64lfaz_y\\ef6b22c1-d51f-48bd-9b02-bc8183ed131e-68.jpg\nC:\\Temp\\tmp64lfaz_y\\ef6b22c1-d51f-48bd-9b02-bc8183ed131e-69.jpg\nC:\\Temp\\tmp64lfaz_y\\ef6b22c1-d51f-48bd-9b02-bc8183ed131e-70.jpg\nC:\\Temp\\tmp64lfaz_y\\ef6b22c1-d51f-48bd-9b02-bc8183ed131e-71.jpg\nC:\\Temp\\tmp64lfaz_y\\ef6b22c1-d51f-48bd-9b02-bc8183ed131e-72.jpg\nC:\\Temp\\tmp64lfaz_y\\ef6b22c1-d51f-48bd-9b02-bc8183ed131e-73.jpg\nC:\\Temp\\tmp64lfaz_y\\ef6b22c1-d51f-48bd-9b02-bc8183ed131e-74.jpg\nC:\\Temp\\tmp64lfaz_y\\ef6b22c1-d51f-48bd-9b02-bc8183ed131e-75.jpg\nC:\\Temp\\tmp64lfaz_y\\ef6b22c1-d51f-48bd-9b02-bc8183ed131e-76.jpg\nC:\\Temp\\tmp64lfaz_y\\ef6b22c1-d51f-48bd-9b02-bc8183ed131e-77.jpg\nC:\\Temp\\tmp64lfaz_y\\ef6b22c1-d51f-48bd-9b02-bc8183ed131e-78.jpg\nC:\\Temp\\tmp64lfaz_y\\ef6b22c1-d51f-48bd-9b02-bc8183ed131e-79.jpg\nC:\\Temp\\tmp64lfaz_y\\ef6b22c1-d51f-48bd-9b02-bc8183ed131e-80.jpg\nC:\\Temp\\tmp64lfaz_y\\ef6b22c1-d51f-48bd-9b02-bc8183ed131e-81.jpg\nC:\\Temp\\tmp64lfaz_y\\ef6b22c1-d51f-48bd-9b02-bc8183ed131e-82.jpg\nC:\\Temp\\tmp64lfaz_y\\ef6b22c1-d51f-48bd-9b02-bc8183ed131e-83.jpg\nC:\\Temp\\tmp64lfaz_y\\ef6b22c1-d51f-48bd-9b02-bc8183ed131e-84.jpg\nC:\\Temp\\tmp64lfaz_y\\ef6b22c1-d51f-48bd-9b02-bc8183ed131e-85.jpg\nC:\\Temp\\tmp64lfaz_y\\ef6b22c1-d51f-48bd-9b02-bc8183ed131e-86.jpg\nC:\\Temp\\tmp64lfaz_y\\ef6b22c1-d51f-48bd-9b02-bc8183ed131e-87.jpg\nC:\\Temp\\tmp64lfaz_y\\ef6b22c1-d51f-48bd-9b02-bc8183ed131e-88.jpg\nC:\\Temp\\tmp64lfaz_y\\ef6b22c1-d51f-48bd-9b02-bc8183ed131e-89.jpg\nC:\\Temp\\tmp64lfaz_y\\ef6b22c1-d51f-48bd-9b02-bc8183ed131e-90.jpg\nC:\\Temp\\tmp64lfaz_y\\ef6b22c1-d51f-48bd-9b02-bc8183ed131e-91.jpg\nC:\\Temp\\tmp64lfaz_y\\ef6b22c1-d51f-48bd-9b02-bc8183ed131e-92.jpg\nC:\\Temp\\tmp64lfaz_y\\f71ba94f-bc5d-4b9e-bebe-7b2621eb2408-01.jpg\nC:\\Temp\\tmp64lfaz_y\\f71ba94f-bc5d-4b9e-bebe-7b2621eb2408-02.jpg\nC:\\Temp\\tmp64lfaz_y\\f71ba94f-bc5d-4b9e-bebe-7b2621eb2408-03.jpg\nC:\\Temp\\tmp64lfaz_y\\f71ba94f-bc5d-4b9e-bebe-7b2621eb2408-04.jpg\nC:\\Temp\\tmp64lfaz_y\\f71ba94f-bc5d-4b9e-bebe-7b2621eb2408-05.jpg\nC:\\Temp\\tmp64lfaz_y\\f71ba94f-bc5d-4b9e-bebe-7b2621eb2408-06.jpg\nC:\\Temp\\tmp64lfaz_y\\f71ba94f-bc5d-4b9e-bebe-7b2621eb2408-07.jpg\nC:\\Temp\\tmp64lfaz_y\\f71ba94f-bc5d-4b9e-bebe-7b2621eb2408-08.jpg\nC:\\Temp\\tmp64lfaz_y\\f71ba94f-bc5d-4b9e-bebe-7b2621eb2408-09.jpg\nC:\\Temp\\tmp64lfaz_y\\f71ba94f-bc5d-4b9e-bebe-7b2621eb2408-10.jpg\nC:\\Temp\\tmp64lfaz_y\\f71ba94f-bc5d-4b9e-bebe-7b2621eb2408-11.jpg\nC:\\Temp\\tmp64lfaz_y\\f71ba94f-bc5d-4b9e-bebe-7b2621eb2408-12.jpg\nC:\\Temp\\tmp64lfaz_y\\f71ba94f-bc5d-4b9e-bebe-7b2621eb2408-13.jpg\nC:\\Temp\\tmp64lfaz_y\\f71ba94f-bc5d-4b9e-bebe-7b2621eb2408-14.jpg\nC:\\Temp\\tmp64lfaz_y\\f71ba94f-bc5d-4b9e-bebe-7b2621eb2408-15.jpg\nC:\\Temp\\tmp64lfaz_y\\f71ba94f-bc5d-4b9e-bebe-7b2621eb2408-16.jpg\nC:\\Temp\\tmp64lfaz_y\\f71ba94f-bc5d-4b9e-bebe-7b2621eb2408-17.jpg\nC:\\Temp\\tmp64lfaz_y\\f71ba94f-bc5d-4b9e-bebe-7b2621eb2408-18.jpg\nC:\\Temp\\tmp64lfaz_y\\f71ba94f-bc5d-4b9e-bebe-7b2621eb2408-19.jpg\nC:\\Temp\\tmp64lfaz_y\\f71ba94f-bc5d-4b9e-bebe-7b2621eb2408-20.jpg\nC:\\Temp\\tmp64lfaz_y\\fc192c36-adba-41f7-b57a-d63319434eb2-01.jpg\nC:\\Temp\\tmp64lfaz_y\\fc192c36-adba-41f7-b57a-d63319434eb2-02.jpg\nC:\\Temp\\tmp64lfaz_y\\fc192c36-adba-41f7-b57a-d63319434eb2-03.jpg\nC:\\Temp\\tmp64lfaz_y\\fc192c36-adba-41f7-b57a-d63319434eb2-04.jpg\nC:\\Temp\\tmp64lfaz_y\\fc192c36-adba-41f7-b57a-d63319434eb2-05.jpg\nC:\\Temp\\tmp64lfaz_y\\fc192c36-adba-41f7-b57a-d63319434eb2-06.jpg\nC:\\Temp\\tmp64lfaz_y\\fc192c36-adba-41f7-b57a-d63319434eb2-07.jpg\nC:\\Temp\\tmp64lfaz_y\\fc192c36-adba-41f7-b57a-d63319434eb2-08.jpg\nC:\\Temp\\tmp64lfaz_y\\fc192c36-adba-41f7-b57a-d63319434eb2-09.jpg\nC:\\Temp\\tmp64lfaz_y\\fc192c36-adba-41f7-b57a-d63319434eb2-10.jpg\nC:\\Temp\\tmp64lfaz_y\\fc192c36-adba-41f7-b57a-d63319434eb2-11.jpg\nC:\\Temp\\tmp64lfaz_y\\fc192c36-adba-41f7-b57a-d63319434eb2-12.jpg\nC:\\Temp\\tmp64lfaz_y\\fc192c36-adba-41f7-b57a-d63319434eb2-13.jpg\nC:\\Temp\\tmp64lfaz_y\\fc192c36-adba-41f7-b57a-d63319434eb2-14.jpg\nC:\\Temp\\tmp64lfaz_y\\fc192c36-adba-41f7-b57a-d63319434eb2-15.jpg\nC:\\Temp\\tmp64lfaz_y\\fc192c36-adba-41f7-b57a-d63319434eb2-16.jpg\nC:\\Temp\\tmp64lfaz_y\\fc192c36-adba-41f7-b57a-d63319434eb2-17.jpg\nC:\\Temp\\tmp64lfaz_y\\fc192c36-adba-41f7-b57a-d63319434eb2-18.jpg\nC:\\Temp\\tmp64lfaz_y\\fc192c36-adba-41f7-b57a-d63319434eb2-19.jpg\nC:\\Temp\\tmp64lfaz_y\\fc192c36-adba-41f7-b57a-d63319434eb2-20.jpg\nC:\\Temp\\tmp64lfaz_y\\fc192c36-adba-41f7-b57a-d63319434eb2-21.jpg\nC:\\Temp\\tmp64lfaz_y\\fc192c36-adba-41f7-b57a-d63319434eb2-22.jpg\nC:\\Temp\\tmp64lfaz_y\\fc192c36-adba-41f7-b57a-d63319434eb2-23.jpg\nC:\\Temp\\tmp64lfaz_y\\fc192c36-adba-41f7-b57a-d63319434eb2-24.jpg\nC:\\Temp\\tmp64lfaz_y\\fc192c36-adba-41f7-b57a-d63319434eb2-25.jpg\nC:\\Temp\\tmp64lfaz_y\\fc192c36-adba-41f7-b57a-d63319434eb2-26.jpg\nC:\\Temp\\tmp64lfaz_y\\fc192c36-adba-41f7-b57a-d63319434eb2-27.jpg\nC:\\Temp\\tmp64lfaz_y\\fc192c36-adba-41f7-b57a-d63319434eb2-28.jpg\nC:\\Temp\\tmp64lfaz_y\\fc192c36-adba-41f7-b57a-d63319434eb2-29.jpg\nC:\\Temp\\tmp64lfaz_y\\fc192c36-adba-41f7-b57a-d63319434eb2-30.jpg\nC:\\Temp\\tmp64lfaz_y\\fc192c36-adba-41f7-b57a-d63319434eb2-31.jpg\nC:\\Temp\\tmp64lfaz_y\\fc192c36-adba-41f7-b57a-d63319434eb2-32.jpg\nC:\\Temp\\tmp64lfaz_y\\fc192c36-adba-41f7-b57a-d63319434eb2-33.jpg\nC:\\Temp\\tmp64lfaz_y\\fc192c36-adba-41f7-b57a-d63319434eb2-34.jpg\nC:\\Temp\\tmp64lfaz_y\\fc192c36-adba-41f7-b57a-d63319434eb2-35.jpg\nC:\\Temp\\tmp64lfaz_y\\fc192c36-adba-41f7-b57a-d63319434eb2-36.jpg\nC:\\Temp\\tmp64lfaz_y\\fc192c36-adba-41f7-b57a-d63319434eb2-37.jpg\nC:\\Temp\\tmp64lfaz_y\\fc192c36-adba-41f7-b57a-d63319434eb2-38.jpg\nC:\\Temp\\tmp64lfaz_y\\fc192c36-adba-41f7-b57a-d63319434eb2-39.jpg\nC:\\Temp\\tmp64lfaz_y\\fc192c36-adba-41f7-b57a-d63319434eb2-40.jpg\nC:\\Temp\\tmp64lfaz_y\\fc192c36-adba-41f7-b57a-d63319434eb2-41.jpg\nC:\\Temp\\tmp64lfaz_y\\fc26ad1b-3342-48b4-8a22-c1401fd36096-01.jpg\nC:\\Temp\\tmp64lfaz_y\\fc26ad1b-3342-48b4-8a22-c1401fd36096-02.jpg\nC:\\Temp\\tmp64lfaz_y\\fc26ad1b-3342-48b4-8a22-c1401fd36096-03.jpg\nC:\\Temp\\tmp64lfaz_y\\fc26ad1b-3342-48b4-8a22-c1401fd36096-04.jpg\nC:\\Temp\\tmp64lfaz_y\\fc26ad1b-3342-48b4-8a22-c1401fd36096-05.jpg\nC:\\Temp\\tmp64lfaz_y\\fc26ad1b-3342-48b4-8a22-c1401fd36096-06.jpg\nC:\\Temp\\tmp64lfaz_y\\fc26ad1b-3342-48b4-8a22-c1401fd36096-07.jpg\nC:\\Temp\\tmp64lfaz_y\\fc26ad1b-3342-48b4-8a22-c1401fd36096-08.jpg\nC:\\Temp\\tmp64lfaz_y\\fc26ad1b-3342-48b4-8a22-c1401fd36096-09.jpg\nC:\\Temp\\tmp64lfaz_y\\fc26ad1b-3342-48b4-8a22-c1401fd36096-10.jpg\nC:\\Temp\\tmp64lfaz_y\\fc26ad1b-3342-48b4-8a22-c1401fd36096-11.jpg\nC:\\Temp\\tmp64lfaz_y\\fc26ad1b-3342-48b4-8a22-c1401fd36096-12.jpg\nC:\\Temp\\tmp64lfaz_y\\fc26ad1b-3342-48b4-8a22-c1401fd36096-13.jpg\nC:\\Temp\\tmp64lfaz_y\\fc26ad1b-3342-48b4-8a22-c1401fd36096-14.jpg\nC:\\Temp\\tmp64lfaz_y\\fc26ad1b-3342-48b4-8a22-c1401fd36096-15.jpg\nC:\\Temp\\tmp64lfaz_y\\fc26ad1b-3342-48b4-8a22-c1401fd36096-16.jpg\nC:\\Temp\\tmp64lfaz_y\\fc26ad1b-3342-48b4-8a22-c1401fd36096-17.jpg\nC:\\Temp\\tmp64lfaz_y\\fc26ad1b-3342-48b4-8a22-c1401fd36096-18.jpg\nC:\\Temp\\tmp64lfaz_y\\fc26ad1b-3342-48b4-8a22-c1401fd36096-19.jpg\nC:\\Temp\\tmp64lfaz_y\\fc26ad1b-3342-48b4-8a22-c1401fd36096-20.jpg\nC:\\Temp\\tmp64lfaz_y\\fc26ad1b-3342-48b4-8a22-c1401fd36096-21.jpg\nC:\\Temp\\tmp64lfaz_y\\fc26ad1b-3342-48b4-8a22-c1401fd36096-22.jpg\nC:\\Temp\\tmp64lfaz_y\\fc26ad1b-3342-48b4-8a22-c1401fd36096-23.jpg\nC:\\Temp\\tmp64lfaz_y\\fc26ad1b-3342-48b4-8a22-c1401fd36096-24.jpg\nC:\\Temp\\tmp64lfaz_y\\fc26ad1b-3342-48b4-8a22-c1401fd36096-25.jpg\nC:\\Temp\\tmp64lfaz_y\\fc26ad1b-3342-48b4-8a22-c1401fd36096-26.jpg\nC:\\Temp\\tmp64lfaz_y\\fc26ad1b-3342-48b4-8a22-c1401fd36096-27.jpg\nC:\\Temp\\tmp64lfaz_y\\fc26ad1b-3342-48b4-8a22-c1401fd36096-28.jpg\nC:\\Temp\\tmp64lfaz_y\\fc26ad1b-3342-48b4-8a22-c1401fd36096-29.jpg\nC:\\Temp\\tmp64lfaz_y\\fc26ad1b-3342-48b4-8a22-c1401fd36096-30.jpg\nC:\\Temp\\tmp64lfaz_y\\fc26ad1b-3342-48b4-8a22-c1401fd36096-31.jpg\nC:\\Temp\\tmp64lfaz_y\\fc26ad1b-3342-48b4-8a22-c1401fd36096-32.jpg\nC:\\Temp\\tmp64lfaz_y\\fc26ad1b-3342-48b4-8a22-c1401fd36096-33.jpg\nC:\\Temp\\tmp64lfaz_y\\fc26ad1b-3342-48b4-8a22-c1401fd36096-34.jpg\nC:\\Temp\\tmp64lfaz_y\\fc26ad1b-3342-48b4-8a22-c1401fd36096-35.jpg\nC:\\Temp\\tmp64lfaz_y\\fc26ad1b-3342-48b4-8a22-c1401fd36096-36.jpg\nC:\\Temp\\tmp64lfaz_y\\fc26ad1b-3342-48b4-8a22-c1401fd36096-37.jpg\nC:\\Temp\\tmp64lfaz_y\\fc26ad1b-3342-48b4-8a22-c1401fd36096-38.jpg\nC:\\Temp\\tmp64lfaz_y\\fc26ad1b-3342-48b4-8a22-c1401fd36096-39.jpg\nC:\\Temp\\tmp64lfaz_y\\fc26ad1b-3342-48b4-8a22-c1401fd36096-40.jpg\nC:\\Temp\\tmp64lfaz_y\\fc26ad1b-3342-48b4-8a22-c1401fd36096-41.jpg\nC:\\Temp\\tmp64lfaz_y\\fc26ad1b-3342-48b4-8a22-c1401fd36096-42.jpg\nC:\\Temp\\tmp64lfaz_y\\fc26ad1b-3342-48b4-8a22-c1401fd36096-43.jpg\nC:\\Temp\\tmp64lfaz_y\\fc26ad1b-3342-48b4-8a22-c1401fd36096-44.jpg\nC:\\Temp\\tmp64lfaz_y\\fc26ad1b-3342-48b4-8a22-c1401fd36096-45.jpg\nC:\\Temp\\tmp64lfaz_y\\fc26ad1b-3342-48b4-8a22-c1401fd36096-46.jpg\nC:\\Temp\\tmp64lfaz_y\\fc26ad1b-3342-48b4-8a22-c1401fd36096-47.jpg\nC:\\Temp\\tmp64lfaz_y\\fc26ad1b-3342-48b4-8a22-c1401fd36096-48.jpg\nC:\\Temp\\tmp64lfaz_y\\fc26ad1b-3342-48b4-8a22-c1401fd36096-49.jpg\nC:\\Temp\\tmp64lfaz_y\\fe157d1e-0dd4-438c-806a-294608491ca7-01.jpg\nC:\\Temp\\tmp64lfaz_y\\fe157d1e-0dd4-438c-806a-294608491ca7-02.jpg\nC:\\Temp\\tmp64lfaz_y\\fe157d1e-0dd4-438c-806a-294608491ca7-03.jpg\nC:\\Temp\\tmp64lfaz_y\\fe157d1e-0dd4-438c-806a-294608491ca7-04.jpg\nC:\\Temp\\tmp64lfaz_y\\fe157d1e-0dd4-438c-806a-294608491ca7-05.jpg\nC:\\Temp\\tmp64lfaz_y\\fe157d1e-0dd4-438c-806a-294608491ca7-06.jpg\nC:\\Temp\\tmp64lfaz_y\\fe157d1e-0dd4-438c-806a-294608491ca7-07.jpg\nC:\\Temp\\tmp64lfaz_y\\fe157d1e-0dd4-438c-806a-294608491ca7-08.jpg\nC:\\Temp\\tmp64lfaz_y\\fe157d1e-0dd4-438c-806a-294608491ca7-09.jpg\nC:\\Temp\\tmp64lfaz_y\\fe157d1e-0dd4-438c-806a-294608491ca7-10.jpg\nC:\\Temp\\tmp64lfaz_y\\fe157d1e-0dd4-438c-806a-294608491ca7-11.jpg\nC:\\Temp\\tmp64lfaz_y\\fe157d1e-0dd4-438c-806a-294608491ca7-12.jpg\nC:\\Temp\\tmp64lfaz_y\\fe157d1e-0dd4-438c-806a-294608491ca7-13.jpg\nC:\\Temp\\tmp64lfaz_y\\fe157d1e-0dd4-438c-806a-294608491ca7-14.jpg\nC:\\Temp\\tmp64lfaz_y\\fe157d1e-0dd4-438c-806a-294608491ca7-15.jpg\nC:\\Temp\\tmp64lfaz_y\\fe157d1e-0dd4-438c-806a-294608491ca7-16.jpg\nC:\\Temp\\tmp64lfaz_y\\fe157d1e-0dd4-438c-806a-294608491ca7-17.jpg\nC:\\Temp\\tmp64lfaz_y\\fe157d1e-0dd4-438c-806a-294608491ca7-18.jpg\nC:\\Temp\\tmp64lfaz_y\\fe157d1e-0dd4-438c-806a-294608491ca7-19.jpg\nC:\\Temp\\tmp64lfaz_y\\fe157d1e-0dd4-438c-806a-294608491ca7-20.jpg\nC:\\Temp\\tmp64lfaz_y\\fe157d1e-0dd4-438c-806a-294608491ca7-21.jpg\nC:\\Temp\\tmp64lfaz_y\\fe157d1e-0dd4-438c-806a-294608491ca7-22.jpg\nC:\\Temp\\tmp64lfaz_y\\fe157d1e-0dd4-438c-806a-294608491ca7-23.jpg\nC:\\Temp\\tmp64lfaz_y\\fe157d1e-0dd4-438c-806a-294608491ca7-24.jpg\nC:\\Temp\\tmp64lfaz_y\\fe157d1e-0dd4-438c-806a-294608491ca7-25.jpg\nC:\\Temp\\tmp64lfaz_y\\fe157d1e-0dd4-438c-806a-294608491ca7-26.jpg\nC:\\Temp\\tmp64lfaz_y\\fe157d1e-0dd4-438c-806a-294608491ca7-27.jpg\nC:\\Temp\\tmp64lfaz_y\\fe157d1e-0dd4-438c-806a-294608491ca7-28.jpg\nC:\\Temp\\tmp64lfaz_y\\fe157d1e-0dd4-438c-806a-294608491ca7-29.jpg\nC:\\Temp\\tmp64lfaz_y\\fe157d1e-0dd4-438c-806a-294608491ca7-30.jpg\nC:\\Temp\\tmp64lfaz_y\\fe157d1e-0dd4-438c-806a-294608491ca7-31.jpg\nC:\\Temp\\tmp64lfaz_y\\fe157d1e-0dd4-438c-806a-294608491ca7-32.jpg\nC:\\Temp\\tmp64lfaz_y\\fe157d1e-0dd4-438c-806a-294608491ca7-33.jpg\nC:\\Temp\\tmp64lfaz_y\\fe157d1e-0dd4-438c-806a-294608491ca7-34.jpg\nC:\\Temp\\tmp64lfaz_y\\fe157d1e-0dd4-438c-806a-294608491ca7-35.jpg\nC:\\Temp\\tmp64lfaz_y\\fe157d1e-0dd4-438c-806a-294608491ca7-36.jpg\nC:\\Temp\\tmp64lfaz_y\\fe157d1e-0dd4-438c-806a-294608491ca7-37.jpg\nC:\\Temp\\tmp64lfaz_y\\fe157d1e-0dd4-438c-806a-294608491ca7-38.jpg\nC:\\Temp\\tmp64lfaz_y\\fe157d1e-0dd4-438c-806a-294608491ca7-39.jpg\nC:\\Temp\\tmp64lfaz_y\\fe157d1e-0dd4-438c-806a-294608491ca7-40.jpg\nC:\\Temp\\tmp64lfaz_y\\fe157d1e-0dd4-438c-806a-294608491ca7-41.jpg\nC:\\Temp\\tmp64lfaz_y\\fe157d1e-0dd4-438c-806a-294608491ca7-42.jpg\nC:\\Temp\\tmp64lfaz_y\\fe157d1e-0dd4-438c-806a-294608491ca7-43.jpg\nC:\\Temp\\tmp64lfaz_y\\fe157d1e-0dd4-438c-806a-294608491ca7-44.jpg\nC:\\Temp\\tmp64lfaz_y\\fe157d1e-0dd4-438c-806a-294608491ca7-45.jpg\nC:\\Temp\\tmp64lfaz_y\\fe157d1e-0dd4-438c-806a-294608491ca7-46.jpg\nC:\\Temp\\tmp64lfaz_y\\fe157d1e-0dd4-438c-806a-294608491ca7-47.jpg\nC:\\Temp\\tmp64lfaz_y\\fe157d1e-0dd4-438c-806a-294608491ca7-48.jpg\nC:\\Temp\\tmp64lfaz_y\\fe157d1e-0dd4-438c-806a-294608491ca7-49.jpg\nC:\\Temp\\tmp64lfaz_y\\fe157d1e-0dd4-438c-806a-294608491ca7-50.jpg\nC:\\Temp\\tmp64lfaz_y\\fe157d1e-0dd4-438c-806a-294608491ca7-51.jpg\nC:\\Temp\\tmp64lfaz_y\\fe157d1e-0dd4-438c-806a-294608491ca7-52.jpg\n"
    }
   ],
   "source": [
    "with os.scandir(temp_dir.name) as it:\n",
    "    for idx,im_path in enumerate(it):\n",
    "        print(im_path.path)"
   ]
  },
  {
   "cell_type": "code",
   "execution_count": 9,
   "metadata": {},
   "outputs": [],
   "source": [
    "# config for TesseractOCR\n",
    "custom_config = r'--oem 3 --psm 6'\n",
    "\n",
    "mins_dict = {'R_No':[],'Mineral':[],'Vol %':[]}\n",
    "\n",
    "#RegEx patterns for sample nos and volume% charachters\n",
    "sample_no_pattern = '^(\\d{7})$|^(R\\d{7})$'\n",
    "Vol_pattern ='^((Tr)|(<1)|[\\d]|\\d{2})$' \n",
    "\n",
    "# for loop that iterates over jpg files in temp file, opens image and runs TesseractOCR on them\n",
    "with os.scandir(temp_dir.name) as it:\n",
    "    for idx,im_path in enumerate(it):\n",
    "        if im_path.name.endswith(\".jpg\") and im_path.is_file():\n",
    "            image = cv2.imread(im_path.path, 0)\n",
    "            d = pytesseract.image_to_data(image, config=custom_config,output_type=Output.DICT)\n",
    "            n_boxes = len(d['text'])\n",
    "            \n",
    "            # nested for loop that selects images that have the first line/first word == to 'SAMPLE'\n",
    "            for i in range(n_boxes):\n",
    "                if int(d['line_num'][i]) == 1 and int(d['word_num'][i]) == 1 and d['text'][i] =='SAMPLE':\n",
    "                                \n",
    "                    #nested for loop to use regex to grab the sample number from the line 1 of the selected jpg pages\n",
    "                    for i in range(n_boxes):\n",
    "                        if int(d['line_num'][i]) == 1:\n",
    "                            if re.match(sample_no_pattern, d['text'][i]):\n",
    "                                sample_no = (d['text'][i]).strip('R')\n",
    "                                #sample_nos.append(d['text'][i])\n",
    "\n",
    "                    ### section to find boxed mineralogy part of image \n",
    "                    thresh, binary_image = cv2.threshold(image, 0, 255, cv2.THRESH_BINARY_INV+cv2.THRESH_OTSU)\n",
    "\n",
    "                    #call lines function to find lines in image\n",
    "                    lines(image,50)\n",
    "\n",
    "                    # Weighting parameters, this will decide the quantity of an image to be added to make a new image.\n",
    "                    alpha = 0.5\n",
    "                    beta = 1.0 - alpha\n",
    "                    # This function helps to add two image with specific weight parameter to get a third image as summation of two image.\n",
    "                    img_final_bin = cv2.addWeighted(verticle_lines_img, alpha, horizontal_lines_img, beta, 0.0)\n",
    "                    img_final_bin = cv2.erode(~img_final_bin, kernel, iterations=2)\n",
    "                    (thresh, img_final_bin) = cv2.threshold(img_final_bin, 128,255, cv2.THRESH_BINARY | cv2.THRESH_OTSU)\n",
    "\n",
    "                    # Find contours for image, which will detect all the boxes\n",
    "                    contours, hierarchy = cv2.findContours(img_final_bin, cv2.RETR_TREE, cv2.CHAIN_APPROX_SIMPLE)\n",
    "\n",
    "                    # Sort all the contours by top to bottom.\n",
    "                    (contours, boundingBoxes) = sort_contours(contours, method=\"top-to-bottom\")\n",
    "\n",
    "                    for c in contours:\n",
    "                        # Returns the location and width,height for every contour\n",
    "                        x, y, w, h = cv2.boundingRect(c)\n",
    "                        new_img = image[y:y+h,x:x+w]\n",
    "                    \n",
    "                    text = pytesseract.image_to_data(new_img,  config=custom_config, output_type=Output.DICT)\n",
    "\n",
    "                    x_boxes = len(text['text'])\n",
    "\n",
    "                    mins_lst = []\n",
    "                    vol_lst = []\n",
    "                    sample_lst = []\n",
    "                    \n",
    "                    for i in range(x_boxes):\n",
    "                        #if int(text['conf'][i]) > 30:\n",
    "                        # if int(text['line_num'][i]) > 1:\n",
    "                        if int(text['word_num'][i])==1 and not text['text'][i] == 'Mineral':\n",
    "                            mins_lst.append((text['text'][i]))\n",
    "\n",
    "                                #if int(text['word_num'][i])==1:\n",
    "                                    \n",
    "\n",
    "                    for i in range(x_boxes):\n",
    "                        #if int(text['conf'][i]) > 30:\n",
    "                            #if int(text['line_num'][i]) > 1:\n",
    "                        if int(text['left'][i]) < 1250:\n",
    "                            if re.match(Vol_pattern, text['text'][i]):\n",
    "                                vol_lst.append((text['text'][i]))\n",
    "\n",
    "                    for i in range(len(mins_lst)):\n",
    "                        sample_lst.append(sample_no)\n",
    "\n",
    "                    mins_dict['Mineral'].append(mins_lst)\n",
    "                    mins_dict['Vol %'].append(vol_lst)\n",
    "                    mins_dict['R_No'].append(sample_lst)\n",
    "\n",
    "                \n",
    "        else:\n",
    "            pass"
   ]
  },
  {
   "cell_type": "code",
   "execution_count": 10,
   "metadata": {},
   "outputs": [],
   "source": [
    "# remove temp directory\n",
    "shutil.rmtree(temp_dir.name)\n",
    "end = timer()"
   ]
  },
  {
   "cell_type": "code",
   "execution_count": 11,
   "metadata": {},
   "outputs": [
    {
     "name": "stdout",
     "output_type": "stream",
     "text": "It took 4802.613309234999 seconds to process a total of:\n552 samples\nWith 552 mineral lists\nAnd 552 volume lists\n"
    }
   ],
   "source": [
    "# print statments to indicate all pages OCR'd successfully\n",
    "Number_samples = len(mins_dict['R_No'])\n",
    "No_min_lists = len(mins_dict['Mineral'])\n",
    "No_vol_lists = len(mins_dict['Vol %'])\n",
    "print(f'It took {(end-start)} seconds to process a total of:')\n",
    "print(f'{Number_samples} samples')\n",
    "print(f'With {No_min_lists} mineral lists')\n",
    "print(f'And {No_vol_lists} volume lists')"
   ]
  },
  {
   "cell_type": "code",
   "execution_count": 30,
   "metadata": {},
   "outputs": [],
   "source": [
    "# Generate a pandas df of the mins_dict of sample lists\n",
    "df = pd.DataFrame(mins_dict)"
   ]
  },
  {
   "cell_type": "code",
   "execution_count": 31,
   "metadata": {},
   "outputs": [],
   "source": [
    "# Select completed records and explode the lists to individual values and select falied records for out put\n",
    "\n",
    "df_complete = df[df['Mineral'].str.len() == df['Vol %'].str.len()].apply(pd.Series.explode)\n",
    "df_failed = df[df['Mineral'].str.len() != df['Vol %'].str.len()]\n"
   ]
  },
  {
   "cell_type": "code",
   "execution_count": 32,
   "metadata": {},
   "outputs": [],
   "source": [
    "#Load mineral code mapping dict\n",
    "min_dict = json.load(open('C:\\\\Users\\\\dutchr01\\\\MyPyScripts\\\\Mason_pet_extract\\\\min_dict.json'))"
   ]
  },
  {
   "cell_type": "code",
   "execution_count": 33,
   "metadata": {},
   "outputs": [],
   "source": [
    "#ToDo strip R's from sample no column"
   ]
  },
  {
   "cell_type": "code",
   "execution_count": 34,
   "metadata": {},
   "outputs": [],
   "source": [
    "# Convert Vol % column from str to int and replace str values (like Tr or <1) to 0\n",
    "df_complete['mode'] = pd.to_numeric(df_complete['Vol %'],errors = 'coerce').replace(np.nan, 0, regex=True).astype(int)"
   ]
  },
  {
   "cell_type": "code",
   "execution_count": 35,
   "metadata": {},
   "outputs": [],
   "source": [
    "# Make a new col and populate with SA_Geo min abndance codes based on conditional args from the converted Vol %s\n",
    "df_complete['SA_Geo_mode'] = str(np.nan)\n",
    "df_complete.loc[df_complete['mode']==0,'SA_Geo_mode'] = 'RARE'\n",
    "df_complete.loc[df_complete['mode'] >= 70,'SA_Geo_mode'] = 'ABUNDANT'\n",
    "df_complete.loc[(df_complete['mode'] >= 30) & (df_complete['mode'] < 70),'SA_Geo_mode'] = 'MAJOR'\n",
    "df_complete.loc[(df_complete['mode'] >= 5) & (df_complete['mode'] < 30),'SA_Geo_mode'] = 'MINOR'\n",
    "df_complete.loc[(df_complete['mode'] > 0) & (df_complete['mode'] < 5),'SA_Geo_mode'] = 'TRACE'"
   ]
  },
  {
   "cell_type": "code",
   "execution_count": 36,
   "metadata": {},
   "outputs": [
    {
     "data": {
      "text/html": "<div>\n<style scoped>\n    .dataframe tbody tr th:only-of-type {\n        vertical-align: middle;\n    }\n\n    .dataframe tbody tr th {\n        vertical-align: top;\n    }\n\n    .dataframe thead th {\n        text-align: right;\n    }\n</style>\n<table border=\"1\" class=\"dataframe\">\n  <thead>\n    <tr style=\"text-align: right;\">\n      <th></th>\n      <th>R_No</th>\n      <th>Mineral</th>\n      <th>Vol %</th>\n      <th>mode</th>\n      <th>SA_Geo_mode</th>\n      <th>check</th>\n    </tr>\n  </thead>\n  <tbody>\n    <tr>\n      <th>5</th>\n      <td>2430062</td>\n      <td>Voids</td>\n      <td>20</td>\n      <td>20</td>\n      <td>MINOR</td>\n      <td>False</td>\n    </tr>\n    <tr>\n      <th>7</th>\n      <td>2427076</td>\n      <td>Mesostasis</td>\n      <td>7</td>\n      <td>7</td>\n      <td>MINOR</td>\n      <td>False</td>\n    </tr>\n    <tr>\n      <th>8</th>\n      <td>2430064</td>\n      <td>Mesostasis</td>\n      <td>40</td>\n      <td>40</td>\n      <td>MAJOR</td>\n      <td>False</td>\n    </tr>\n    <tr>\n      <th>9</th>\n      <td>2430067</td>\n      <td>Mesostasis</td>\n      <td>5</td>\n      <td>5</td>\n      <td>MINOR</td>\n      <td>False</td>\n    </tr>\n    <tr>\n      <th>11</th>\n      <td>2430070</td>\n      <td>Mesostasis</td>\n      <td>35</td>\n      <td>35</td>\n      <td>MAJOR</td>\n      <td>False</td>\n    </tr>\n    <tr>\n      <th>...</th>\n      <td>...</td>\n      <td>...</td>\n      <td>...</td>\n      <td>...</td>\n      <td>...</td>\n      <td>...</td>\n    </tr>\n    <tr>\n      <th>487</th>\n      <td>1963547</td>\n      <td>Leucoxeneftitanite</td>\n      <td>1</td>\n      <td>1</td>\n      <td>TRACE</td>\n      <td>False</td>\n    </tr>\n    <tr>\n      <th>489</th>\n      <td>1969096</td>\n      <td>Mesostasis</td>\n      <td>5</td>\n      <td>5</td>\n      <td>MINOR</td>\n      <td>False</td>\n    </tr>\n    <tr>\n      <th>490</th>\n      <td>1969097</td>\n      <td>Mesostasis</td>\n      <td>3</td>\n      <td>3</td>\n      <td>TRACE</td>\n      <td>False</td>\n    </tr>\n    <tr>\n      <th>524</th>\n      <td>1842270</td>\n      <td>Opaline</td>\n      <td>&lt;1</td>\n      <td>0</td>\n      <td>RARE</td>\n      <td>False</td>\n    </tr>\n    <tr>\n      <th>549</th>\n      <td>1961434</td>\n      <td>Felsic</td>\n      <td>48</td>\n      <td>48</td>\n      <td>MAJOR</td>\n      <td>False</td>\n    </tr>\n  </tbody>\n</table>\n<p>99 rows × 6 columns</p>\n</div>",
      "text/plain": "        R_No             Mineral Vol %  mode SA_Geo_mode  check\n5    2430062               Voids    20    20       MINOR  False\n7    2427076          Mesostasis     7     7       MINOR  False\n8    2430064          Mesostasis    40    40       MAJOR  False\n9    2430067          Mesostasis     5     5       MINOR  False\n11   2430070          Mesostasis    35    35       MAJOR  False\n..       ...                 ...   ...   ...         ...    ...\n487  1963547  Leucoxeneftitanite     1     1       TRACE  False\n489  1969096          Mesostasis     5     5       MINOR  False\n490  1969097          Mesostasis     3     3       TRACE  False\n524  1842270             Opaline    <1     0        RARE  False\n549  1961434              Felsic    48    48       MAJOR  False\n\n[99 rows x 6 columns]"
     },
     "execution_count": 36,
     "metadata": {},
     "output_type": "execute_result"
    }
   ],
   "source": [
    "# Run a check that the Mins in the Mineral col are in the mineral map JSON dict keys and output a missing_mins df for missing keys\n",
    "df_complete['check']=df_complete['Mineral'].str.strip('/?, ').isin(min_dict.keys())\n",
    "missing_mins = df_complete[df_complete['check']==False]\n",
    "missing_mins"
   ]
  },
  {
   "cell_type": "code",
   "execution_count": 37,
   "metadata": {},
   "outputs": [
    {
     "data": {
      "text/html": "<div>\n<style scoped>\n    .dataframe tbody tr th:only-of-type {\n        vertical-align: middle;\n    }\n\n    .dataframe tbody tr th {\n        vertical-align: top;\n    }\n\n    .dataframe thead th {\n        text-align: right;\n    }\n</style>\n<table border=\"1\" class=\"dataframe\">\n  <thead>\n    <tr style=\"text-align: right;\">\n      <th></th>\n      <th>R_No</th>\n      <th>Mineral</th>\n      <th>Vol %</th>\n      <th>mode</th>\n      <th>SA_Geo_mode</th>\n      <th>check</th>\n      <th>SA_geo_min</th>\n    </tr>\n  </thead>\n  <tbody>\n    <tr>\n      <th>362</th>\n      <td>2014963</td>\n      <td>Opaques</td>\n      <td>4</td>\n      <td>4</td>\n      <td>TRACE</td>\n      <td>True</td>\n      <td>OPQ</td>\n    </tr>\n    <tr>\n      <th>522</th>\n      <td>1842268</td>\n      <td>Quartz</td>\n      <td>30</td>\n      <td>30</td>\n      <td>MAJOR</td>\n      <td>True</td>\n      <td>QZ</td>\n    </tr>\n    <tr>\n      <th>474</th>\n      <td>2014961</td>\n      <td>Olivine</td>\n      <td>8</td>\n      <td>8</td>\n      <td>MINOR</td>\n      <td>True</td>\n      <td>OL</td>\n    </tr>\n    <tr>\n      <th>186</th>\n      <td>2138097</td>\n      <td>K-feldspar</td>\n      <td>5</td>\n      <td>5</td>\n      <td>MINOR</td>\n      <td>True</td>\n      <td>KFS</td>\n    </tr>\n    <tr>\n      <th>287</th>\n      <td>2438823</td>\n      <td>Clinopyroxene</td>\n      <td>5</td>\n      <td>5</td>\n      <td>MINOR</td>\n      <td>True</td>\n      <td>CPX</td>\n    </tr>\n    <tr>\n      <th>19</th>\n      <td>2423472</td>\n      <td>Zircon</td>\n      <td>Tr</td>\n      <td>0</td>\n      <td>RARE</td>\n      <td>True</td>\n      <td>ZRN</td>\n    </tr>\n    <tr>\n      <th>388</th>\n      <td>2134857</td>\n      <td>Biotite</td>\n      <td>4</td>\n      <td>4</td>\n      <td>TRACE</td>\n      <td>True</td>\n      <td>BT</td>\n    </tr>\n    <tr>\n      <th>512</th>\n      <td>1842258</td>\n      <td>Zircon</td>\n      <td>Tr</td>\n      <td>0</td>\n      <td>RARE</td>\n      <td>True</td>\n      <td>ZRN</td>\n    </tr>\n    <tr>\n      <th>410</th>\n      <td>2066660</td>\n      <td>Zoisite</td>\n      <td>Tr</td>\n      <td>0</td>\n      <td>RARE</td>\n      <td>True</td>\n      <td>ZO</td>\n    </tr>\n    <tr>\n      <th>84</th>\n      <td>1842268</td>\n      <td>Sericite</td>\n      <td>&lt;1</td>\n      <td>0</td>\n      <td>RARE</td>\n      <td>True</td>\n      <td>SERC</td>\n    </tr>\n    <tr>\n      <th>70</th>\n      <td>1842254</td>\n      <td>Goethite</td>\n      <td>Tr</td>\n      <td>0</td>\n      <td>RARE</td>\n      <td>True</td>\n      <td>GT</td>\n    </tr>\n    <tr>\n      <th>16</th>\n      <td>2423466</td>\n      <td>Plagioclase</td>\n      <td>10</td>\n      <td>10</td>\n      <td>MINOR</td>\n      <td>True</td>\n      <td>PL</td>\n    </tr>\n    <tr>\n      <th>551</th>\n      <td>1961462</td>\n      <td>Sericite</td>\n      <td>2</td>\n      <td>2</td>\n      <td>TRACE</td>\n      <td>True</td>\n      <td>SERC</td>\n    </tr>\n    <tr>\n      <th>437</th>\n      <td>2054875</td>\n      <td>Hematite</td>\n      <td>&lt;1</td>\n      <td>0</td>\n      <td>RARE</td>\n      <td>True</td>\n      <td>HEM</td>\n    </tr>\n    <tr>\n      <th>500</th>\n      <td>1565721</td>\n      <td>Biotite</td>\n      <td>Tr</td>\n      <td>0</td>\n      <td>RARE</td>\n      <td>True</td>\n      <td>BT</td>\n    </tr>\n    <tr>\n      <th>525</th>\n      <td>1842271</td>\n      <td>Muscovite</td>\n      <td>Tr</td>\n      <td>0</td>\n      <td>RARE</td>\n      <td>True</td>\n      <td>MS</td>\n    </tr>\n    <tr>\n      <th>228</th>\n      <td>2427072</td>\n      <td>Chlorite</td>\n      <td>2</td>\n      <td>2</td>\n      <td>TRACE</td>\n      <td>True</td>\n      <td>CL</td>\n    </tr>\n    <tr>\n      <th>305</th>\n      <td>1834110</td>\n      <td>Muscovite</td>\n      <td>2</td>\n      <td>2</td>\n      <td>TRACE</td>\n      <td>True</td>\n      <td>MS</td>\n    </tr>\n    <tr>\n      <th>225</th>\n      <td>2427063</td>\n      <td>Sericite</td>\n      <td>Tr</td>\n      <td>0</td>\n      <td>RARE</td>\n      <td>True</td>\n      <td>SERC</td>\n    </tr>\n    <tr>\n      <th>527</th>\n      <td>1842273</td>\n      <td>Sericite/muscovite</td>\n      <td>Tr</td>\n      <td>0</td>\n      <td>RARE</td>\n      <td>True</td>\n      <td>SERC</td>\n    </tr>\n  </tbody>\n</table>\n</div>",
      "text/plain": "        R_No             Mineral Vol %  mode SA_Geo_mode  check SA_geo_min\n362  2014963             Opaques     4     4       TRACE   True        OPQ\n522  1842268              Quartz    30    30       MAJOR   True         QZ\n474  2014961             Olivine     8     8       MINOR   True         OL\n186  2138097          K-feldspar     5     5       MINOR   True        KFS\n287  2438823       Clinopyroxene     5     5       MINOR   True        CPX\n19   2423472              Zircon    Tr     0        RARE   True        ZRN\n388  2134857             Biotite     4     4       TRACE   True         BT\n512  1842258              Zircon    Tr     0        RARE   True        ZRN\n410  2066660             Zoisite    Tr     0        RARE   True         ZO\n84   1842268            Sericite    <1     0        RARE   True       SERC\n70   1842254            Goethite    Tr     0        RARE   True         GT\n16   2423466         Plagioclase    10    10       MINOR   True         PL\n551  1961462            Sericite     2     2       TRACE   True       SERC\n437  2054875            Hematite    <1     0        RARE   True        HEM\n500  1565721             Biotite    Tr     0        RARE   True         BT\n525  1842271           Muscovite    Tr     0        RARE   True         MS\n228  2427072            Chlorite     2     2       TRACE   True         CL\n305  1834110           Muscovite     2     2       TRACE   True         MS\n225  2427063            Sericite    Tr     0        RARE   True       SERC\n527  1842273  Sericite/muscovite    Tr     0        RARE   True       SERC"
     },
     "execution_count": 37,
     "metadata": {},
     "output_type": "execute_result"
    }
   ],
   "source": [
    "# Create a new Col and populate with the mapped SA_Geo min codes, replacing Mins not found in the mineral map JSON dict with the 'UKN' mineral code\n",
    "df_complete['SA_geo_min'] = str(np.nan)\n",
    "df_complete['SA_geo_min'] = df_complete['Mineral'].map(min_dict).replace([np.nan],['UKN'])\n",
    "df_complete.sample(20)"
   ]
  },
  {
   "cell_type": "code",
   "execution_count": 40,
   "metadata": {},
   "outputs": [],
   "source": [
    "# Output final tables to Excel\n",
    "now = datetime.now().strftime(\"%Y%m%d_%H%M\")\n",
    "SA_geo_mineralogy = df_complete[['R_No','Mineral','Vol %','SA_geo_min','SA_Geo_mode']]\n",
    "\n",
    "with pd.ExcelWriter(pdf_path+'\\\\'+now+'_SA_geodata_mineralogy.xlsx') as writer:\n",
    "    SA_geo_mineralogy.to_excel(writer, sheet_name = 'mapped_mineralogy', index=False)\n",
    "    df_failed.to_excel(writer, sheet_name = 'failed samples', index=False)\n",
    "    missing_mins.to_excel(writer, sheet_name = 'missing_minerals')"
   ]
  },
  {
   "cell_type": "code",
   "execution_count": null,
   "metadata": {},
   "outputs": [],
   "source": []
  }
 ]
}