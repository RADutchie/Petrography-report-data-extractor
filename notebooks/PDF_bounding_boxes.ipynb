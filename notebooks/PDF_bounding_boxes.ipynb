{
 "nbformat": 4,
 "nbformat_minor": 2,
 "metadata": {
  "language_info": {
   "name": "python",
   "codemirror_mode": {
    "name": "ipython",
    "version": 3
   },
   "version": "3.7.5-final"
  },
  "orig_nbformat": 2,
  "file_extension": ".py",
  "mimetype": "text/x-python",
  "name": "python",
  "npconvert_exporter": "python",
  "pygments_lexer": "ipython3",
  "version": 3,
  "kernelspec": {
   "name": "python37564bittesseractocrconda98f725dae0474fddbdf9b8103e3233bc",
   "display_name": "Python 3.7.5 64-bit ('tesseractOCR': conda)"
  }
 },
 "cells": [
  {
   "source": [
    "from pdf2image import convert_from_path, convert_from_bytes"
   ],
   "cell_type": "code",
   "outputs": [],
   "metadata": {},
   "execution_count": 1
  },
  {
   "source": [
    "images = convert_from_path('C:\\\\Users\\\\dutchr01\\\\MyPyScripts\\\\Mason_pet_extract\\\\MG4188.pdf', dpi=300,output_folder='C:\\\\Users\\\\dutchr01\\\\MyPyScripts\\\\Mason_pet_extract\\\\temp',fmt='jpg')\n",
    ""
   ],
   "cell_type": "code",
   "outputs": [],
   "metadata": {},
   "execution_count": 2
  },
  {
   "source": [
    "import cv2\n",
    "import numpy as np\n",
    "import matplotlib.pyplot as plt\n",
    "import matplotlib as mpl\n",
    "import ipywidgets as widgets\n",
    "mpl.rcParams['image.cmap'] = 'gray'"
   ],
   "cell_type": "code",
   "outputs": [],
   "metadata": {},
   "execution_count": 3
  },
  {
   "source": [
    "# Read the image\n",
    "img = cv2.imread('C:\\\\Users\\\\dutchr01\\\\MyPyScripts\\\\Mason_pet_extract\\\\temp\\\\79c811fc-6c66-465a-85c4-10516037ebb4-43.jpg', 0)"
   ],
   "cell_type": "code",
   "outputs": [],
   "metadata": {},
   "execution_count": 89
  },
  {
   "source": [
    "#image_gray = cv2.cvtColor(img, cv2.COLOR_BGR2GRAY)\n",
    "    \n",
    "#Otsu thresholding\n",
    "thresh, binary_image = cv2.threshold(img, 0, 255, cv2.THRESH_BINARY_INV+cv2.THRESH_OTSU)\n",
    "\n",
    "\n",
    "#cv2.imwrite(\"Image_bin.jpg\",binary_image)\n",
    "plt.axis('off')\n",
    "plt.imshow(binary_image);"
   ],
   "cell_type": "code",
   "outputs": [
    {
     "output_type": "display_data",
     "data": {
      "text/plain": "<Figure size 432x288 with 1 Axes>",
      "image/svg+xml": "<?xml version=\"1.0\" encoding=\"utf-8\" standalone=\"no\"?>\r\n<!DOCTYPE svg PUBLIC \"-//W3C//DTD SVG 1.1//EN\"\r\n  \"http://www.w3.org/Graphics/SVG/1.1/DTD/svg11.dtd\">\r\n<!-- Created with matplotlib (https://matplotlib.org/) -->\r\n<svg height=\"231.84pt\" version=\"1.1\" viewBox=\"0 0 168.182395 231.84\" width=\"168.182395pt\" xmlns=\"http://www.w3.org/2000/svg\" xmlns:xlink=\"http://www.w3.org/1999/xlink\">\r\n <defs>\r\n  <style type=\"text/css\">\r\n*{stroke-linecap:butt;stroke-linejoin:round;}\r\n  </style>\r\n </defs>\r\n <g id=\"figure_1\">\r\n  <g id=\"patch_1\">\r\n   <path d=\"M 0 231.84 \r\nL 168.182395 231.84 \r\nL 168.182395 0 \r\nL 0 0 \r\nz\r\n\" style=\"fill:none;\"/>\r\n  </g>\r\n  <g id=\"axes_1\">\r\n   <g clip-path=\"url(#p984745ae01)\">\r\n    <image height=\"218\" id=\"image177b7c5be0\" transform=\"scale(1 -1)translate(0 -218)\" width=\"154\" x=\"7.2\" xlink:href=\"data:image/png;base64,\r\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\" y=\"-6.64\"/>\r\n   </g>\r\n  </g>\r\n </g>\r\n <defs>\r\n  <clipPath id=\"p984745ae01\">\r\n   <rect height=\"217.44\" width=\"153.782395\" x=\"7.2\" y=\"7.2\"/>\r\n  </clipPath>\r\n </defs>\r\n</svg>\r\n",
      "image/png": "[encoded data removed]"
     },
     "metadata": {
      "needs_background": "light"
     }
    }
   ],
   "metadata": {},
   "execution_count": 90
  },
  {
   "source": [
    "def f(img,x=50):\n",
    "    # Defining a kernel length\n",
    "    global horizontal_lines_img, verticle_lines_img, kernel\n",
    "    kernel_length = np.array(img).shape[1]//x\n",
    "\n",
    "    # A verticle kernel of (1 X kernel_length), which will detect all the verticle lines from the image.\n",
    "    verticle_kernel = cv2.getStructuringElement(cv2.MORPH_RECT, (1, kernel_length))\n",
    "    # A horizontal kernel of (kernel_length X 1), which will help to detect all the horizontal line from the image.\n",
    "    hori_kernel = cv2.getStructuringElement(cv2.MORPH_RECT, (kernel_length, 1))\n",
    "    # A kernel of (3 X 3) ones.\n",
    "    kernel = cv2.getStructuringElement(cv2.MORPH_RECT, (3, 3))\n",
    "    # Morphological operation to detect vertical lines from an image\n",
    "    img_temp1 = cv2.erode(binary_image, verticle_kernel, iterations=3)\n",
    "    verticle_lines_img = cv2.dilate(img_temp1, verticle_kernel, iterations=3)\n",
    "    #cv2.imwrite(\"verticle_lines.jpg\",verticle_lines_img)\n",
    "    # Morphological operation to detect horizontal lines from an image\n",
    "    img_temp2 = cv2.erode(binary_image, hori_kernel, iterations=3)\n",
    "    horizontal_lines_img = cv2.dilate(img_temp2, hori_kernel, iterations=3)\n",
    "    \n",
    "    \n",
    "    plt.subplot(1, 2, 1)  # 2 rows, 2 columns, 1st subplot = top left\n",
    "    plt.imshow(verticle_lines_img);\n",
    "    plt.axis('off')\n",
    "\n",
    "    plt.subplot(1, 2, 2)  # 2 rows, 2 columns, 2nd subplot = top right\n",
    "    plt.imshow(horizontal_lines_img);\n",
    "    plt.axis('off')\n",
    "\n",
    "f(img)\n",
    ""
   ],
   "cell_type": "code",
   "outputs": [
    {
     "output_type": "display_data",
     "data": {
      "text/plain": "<Figure size 432x288 with 2 Axes>",
      "image/svg+xml": "<?xml version=\"1.0\" encoding=\"utf-8\" standalone=\"no\"?>\r\n<!DOCTYPE svg PUBLIC \"-//W3C//DTD SVG 1.1//EN\"\r\n  \"http://www.w3.org/Graphics/SVG/1.1/DTD/svg11.dtd\">\r\n<!-- Created with matplotlib (https://matplotlib.org/) -->\r\n<svg height=\"229.576871pt\" version=\"1.1\" viewBox=\"0 0 349.2 229.576871\" width=\"349.2pt\" xmlns=\"http://www.w3.org/2000/svg\" xmlns:xlink=\"http://www.w3.org/1999/xlink\">\r\n <defs>\r\n  <style type=\"text/css\">\r\n*{stroke-linecap:butt;stroke-linejoin:round;}\r\n  </style>\r\n </defs>\r\n <g id=\"figure_1\">\r\n  <g id=\"patch_1\">\r\n   <path d=\"M 0 229.576871 \r\nL 349.2 229.576871 \r\nL 349.2 0 \r\nL 0 0 \r\nz\r\n\" style=\"fill:none;\"/>\r\n  </g>\r\n  <g id=\"axes_1\">\r\n   <g clip-path=\"url(#p7ba06161ff)\">\r\n    <image height=\"216\" id=\"image1c1e69c09c\" transform=\"scale(1 -1)translate(0 -216)\" width=\"153\" x=\"7.2\" xlink:href=\"data:image/png;base64,\r\niVBORw0KGgoAAAANSUhEUgAAAJkAAADYCAYAAAD4WEFzAAAABHNCSVQICAgIfAhkiAAAA+lJREFUeJzt3NFu4kgUQEG82v//ZfZhlREZmWBwH4LbVW8zEiaYk9tW47BcLpfrBUL//PYPwPxERk5k5ERGTmTkREZOZORERk5k5ERGTmTkREZOZORERk5k5ERGTmTkREZOZORERk5k5ERGTmTkREZOZORERk5k5ERGTmTkREZOZORERk5k5ERGTmTkREZOZORERk5k5ERGTmTkREZOZORERk5k5ERGTmTkREZOZORERk5k5ERGTmTkREZOZORERk5k5ERGTmTkREZOZORERk5k5ERGTmTkREZOZORERk5k5ERGTmTkREZOZORERk5k5ERGTmTkREZOZORERk5k5ERGTmTkREZOZORERu7fEQe5Xq8jDrPZsixvfb53v77L5f2vsWSSkRMZOZGR2xXZb1yrcDwmGTmRkdsdmSWTR0yyB/wS7ScyciIjNyyymT4GYaxhkbl24R7LJbmhkVkyWTM0Mksmaw65XL4rZr80YxwyMo5FZORERk5k5ERGTmTkhvxJ3G+4Xq9/Nn+/thqWZVnddlj7/9uN49tj3R6PMU47ya7X67eYhNVZLpfLy2f33hvzNTluJ83Wj5yO9GavvaZHP/+jc/LMuTqKZLn8OtH3JsXfy9xM7i3ZZ/Yry+XfSxXfzXZuTntNVluWZbpl71Uii4ntwFsYRzLjxfwzTLI3mu1aayuR7bAnmjNNNpHtdO8Thi2PO8tkE1lsbc/wbEQ2wN6Pp26n2ozLqMg+yKzTTmQfaLZpZp9skFmn0AgmGTmRvcFsy9+zRPaEZ2OxhP5vymuyV24mfObYj2735rupJtlPk2bkknV7rLMvhVtMFdk7mFzPO1Vke6fO2i3k9XPO4FSRVV4J6UzxTXnh/05u93nMJNvB9dk2p4psZBSjjnWGUE8V2ShnCGMkkZETWegsF/aPnCKyoy1vR/t5H7GFMdi96XXmqTbNJDvzm/jppomMzyWyDzD7FBbZRo9uI3r1i1W+HjNzaKeKrLinbOY4RjlEZKPf0C3HuX3Oe88vsG0+NrJqK+Bdd8++4refv5JFVp6wEcfecw1VxzBbbEM3Y9eWk7Xv2//p8T99o/bav7fsjj8zvdy/P95HLpfPvtFi+Gy7vscftvjIScZcREZOZORERk5k5ERGTmTkREZOZORERk5k5ERGTmTkREZOZORERk5k5ERGTmTkREZOZORERk5k5ERGTmTkREZOZORERk5k5ERGTmTkREZOZORERk5k5ERGTmTkREZOZORERk5k5ERGTmTkREZOZORERk5k5ERGTmTkREZOZORERk5k5ERGTmTkREZOZORERk5k5ERGTmTkREZOZOT+A5hDyAUj0+3iAAAAAElFTkSuQmCC\" y=\"-6.376871\"/>\r\n   </g>\r\n  </g>\r\n  <g id=\"axes_2\">\r\n   <g clip-path=\"url(#p371c4be75a)\">\r\n    <image height=\"216\" id=\"image1bf5528257\" transform=\"scale(1 -1)translate(0 -216)\" width=\"153\" x=\"189.818182\" xlink:href=\"data:image/png;base64,\r\niVBORw0KGgoAAAANSUhEUgAAAJkAAADYCAYAAAD4WEFzAAAABHNCSVQICAgIfAhkiAAAA+VJREFUeJzt3N1ymlAYQFHs9P1f2V45TVNbFNgCh7VuMxlN2H7n8DPepmm6TxD6sfcbYHwiIycyciIjJzJyIiMnMnIiIycyciIjJzJyIiMnMnIiIycyciIjJzJyIiMnMnIiIycyciIjJzJyIiMnMnIiIycyciIjJzJyIiMnMnIiIycyciIjJzJyIiMnMnIiIycyciIjJzJyIiMnMnIiIycyciIjJzJyIiMnMnIiIycyciIjJzJyIiMnMnIiIycyciIjJzJyIiMnMnIiIycyciIjJzJyIiMnMnIiIycyciIjJzJyIiMnMnIiIycyciIjJzJyIiMnMnIiIycyciIjJzJyIiMnMnIiI/dzzS/f7/et3sdbbrfbR19vj7/z039jySQjJzJyIiO3KrKR9g10TDJyqyMzzZhjkpET2Yy9rgWOZJPILJn8j0lGbrPITDP+ZdW9y+++hmYvw8OmkQmLZzbdk1kyecbGn9wpI/vUsmz538bmkVky+e6UT8ZyLqdcLjkXkZETGTmRkdv0iv8nvXPS8e4ZrxOabZ02sneIZl+3aZoOdwSOGIXrf8utimxpDI8DdsSYjmC0oHeJjHkjhXaJPdkePFv3m8gWeGW5//qzq28PLJcLjbSc1VyMXejKH7B3iWwFob1GZCvd73exzbDx38DaM8nR93c2/oGlZ5Ojxma5DCz98I36oTXJVpqbPmtvvY3AnmwlH7R5lktyJtnBjLRMPgw7yW632ykP2IjX3YacZF/j2vJpiGfRjhZEYcjIntkihvv9/ldoZ5yWn3aZyLZ63OYRmiv7r7tMZNO0zTR7hHLVYJYYMrJHTEUI30MV27whI5umzx38NdPxKoEOG9kRXCWiOUNG9qmDK6LXDBlZuSd79jrvulqcQ0X2v4P3yYumc5c45t7LaBEOe1tpT+4C/GmoSXYEW0zTZ3cWzmyYSTZ3UD51w9wU+9swk+zZwV16+6d6L1c13OPXR9n8P1w5rodhJtnDp0ISz+uGi6wgqHWGjmyrhwz/9TtL4nv19UcK+1SR7fGP3/o1R4rnVafb+F/xIJ1d+sXEW0b4Pa6t7hv6KoHe7pPs6Adtr8s0R/+/vGP3PdkRr7WxrUN+jz9jGebeJcclMnIiIycyciIjJzJyIiMnMnIiIycyciIjJzJyIiMnMnIiIycyciIjJzJyIiMnMnIiIycyciIjJzJyIiMnMnIiIycyciIjJzJyIiMnMnIiIycyciIjJzJyIiMnMnIiIycyciIjJzJyIiMnMnIiIycyciIjJzJyIiMnMnIiIycyciIjJzJyIiMnMnIiIycyciIjJzJyIiMnMnIiI/cLzDPf13YKeHwAAAAASUVORK5CYII=\" y=\"-6.376871\"/>\r\n   </g>\r\n  </g>\r\n </g>\r\n <defs>\r\n  <clipPath id=\"p7ba06161ff\">\r\n   <rect height=\"215.176871\" width=\"152.181818\" x=\"7.2\" y=\"7.2\"/>\r\n  </clipPath>\r\n  <clipPath id=\"p371c4be75a\">\r\n   <rect height=\"215.176871\" width=\"152.181818\" x=\"189.818182\" y=\"7.2\"/>\r\n  </clipPath>\r\n </defs>\r\n</svg>\r\n",
      "image/png": "[encoded data removed]"
     },
     "metadata": {
      "needs_background": "light"
     }
    }
   ],
   "metadata": {},
   "execution_count": 91
  },
  {
   "source": [
    "# Weighting parameters, this will decide the quantity of an image to be added to make a new image.\n",
    "alpha = 0.5\n",
    "beta = 1.0 - alpha\n",
    "# This function helps to add two image with specific weight parameter to get a third image as summation of two image.\n",
    "img_final_bin = cv2.addWeighted(verticle_lines_img, alpha, horizontal_lines_img, beta, 0.0)\n",
    "img_final_bin = cv2.erode(~img_final_bin, kernel, iterations=2)\n",
    "(thresh, img_final_bin) = cv2.threshold(img_final_bin, 128,255, cv2.THRESH_BINARY | cv2.THRESH_OTSU)\n",
    "plt.axis('off')\n",
    "plt.imshow(img_final_bin)\n",
    "#cv2.imwrite('img_final_bin.jpg',img_final_bin)"
   ],
   "cell_type": "code",
   "outputs": [
    {
     "output_type": "execute_result",
     "data": {
      "text/plain": "<matplotlib.image.AxesImage at 0x17b88143508>"
     },
     "metadata": {},
     "execution_count": 92
    },
    {
     "output_type": "display_data",
     "data": {
      "text/plain": "<Figure size 432x288 with 1 Axes>",
      "image/svg+xml": "<?xml version=\"1.0\" encoding=\"utf-8\" standalone=\"no\"?>\r\n<!DOCTYPE svg PUBLIC \"-//W3C//DTD SVG 1.1//EN\"\r\n  \"http://www.w3.org/Graphics/SVG/1.1/DTD/svg11.dtd\">\r\n<!-- Created with matplotlib (https://matplotlib.org/) -->\r\n<svg height=\"231.84pt\" version=\"1.1\" viewBox=\"0 0 168.182395 231.84\" width=\"168.182395pt\" xmlns=\"http://www.w3.org/2000/svg\" xmlns:xlink=\"http://www.w3.org/1999/xlink\">\r\n <defs>\r\n  <style type=\"text/css\">\r\n*{stroke-linecap:butt;stroke-linejoin:round;}\r\n  </style>\r\n </defs>\r\n <g id=\"figure_1\">\r\n  <g id=\"patch_1\">\r\n   <path d=\"M 0 231.84 \r\nL 168.182395 231.84 \r\nL 168.182395 0 \r\nL 0 0 \r\nz\r\n\" style=\"fill:none;\"/>\r\n  </g>\r\n  <g id=\"axes_1\">\r\n   <g clip-path=\"url(#p8d5db79027)\">\r\n    <image height=\"218\" id=\"imageac748fce1e\" transform=\"scale(1 -1)translate(0 -218)\" width=\"154\" x=\"7.2\" xlink:href=\"data:image/png;base64,\r\niVBORw0KGgoAAAANSUhEUgAAAJoAAADaCAYAAABep1t7AAAABHNCSVQICAgIfAhkiAAAA/VJREFUeJzt3N1um1gYQNF4NO//yszFyBWy7BQbs4HDWlKkVpELNTsfPzHcpmmafmBj/+y9AlyD0EgIjYTQSAiNhNBICI2E0EgIjYTQSAiNhNBICI2E0EgIjcRHod1ut2+vB4Mz0UgIjYTQSAiNhNBICI2E0EgIjYTQSAiNhNBICI2E0EgIjYTQSAiNhNBICI2E0EgIjYTQSAiNhNBICI2E0EgIjYTQSAiNhNBICI2E0EgIjYTQSAiNhNBICI2E0Eh8FNo0Td9eDwZnopEQGgmhkRAaCaGREBoJoZEQGgmhkRAaCaGREBoJoZEQGgmhkRAaCaGREBoJoZEQGgmhkRAaCaGREBoJoZEQGgmhkRAaCaGREBoJoZEQGol/17z4drt9az3esseDAPf4v470wEMTjcQpQ9trkvK5U4ZWE/Z6QiMhNBJCIyE0EkIjITQSQiMhNBJC+wsXa79DaCSERkJoJIRGQmgkhEZCaCSERkJov3Cx9nuERuK0oZk257Lqvs69ie08TjvROJdNJto0TX+mzf3PS+66vsKEmr83V3KbVtx3/+kbdl/kFd/wd4z0SIRdjtEEdj2O0UgIjYTQVrofRz0eT03T9Odr/verEtoXLY1pSZSjEdpK8xOb+SWdpa/55PtnJLTIq3hGnF7PnPpXUEdyD+m3afTse0un4NmZaBv4JJrRgzPRNvDpMdaIx2Z3JtoGrn4p4xkTbQMjT6ZPmWgkhEZCaCSGD+2sB+VnXe9XhgytPOtbupx312e0E4ohQ3vcSFuGtzSId8Mx0U7kqBvrivdPDBtauaGuvltcYtjQfn7+36DFRv10t3jUibuFoUM76q+C5mEecf22MGxoZ9mAV9mNDhmayI5nyNCeudJGPaIhQ6tOAlhuyNDulny8msawoc2P0/Y4+9x7+Ucz/Acf95pmr27Du+p0HXaiHdVVJ9uwoR1xcswn22+70xFjHH7XWZtHMvotdO8Q2he8M5mWTNojTuO1ht11ftNvIb07rea7zccz078t78yGm2jzZ+a+enbuJxNjy8ehjhjWo12eYbvGnpcIHo+/tghkq393b6cK7XFVlyz/1UR7dtA+f827H+Ux6X53qtCuZqTQnAyQWHUyMNJPHNsy0UgIjYTQSAiNhNBICI2E0EgIjYTQSAiNhNBICI2E0EgIjYTQSAiNhNBICI2E0EgIjcSqm1Pcbncda29EchcUCbtOEkIjITQSQiMhNBJCIyE0EkIjITQSQiMhNBJCIyE0EkIjITQSQiMhNBJCIyE0EkIjITQSQiMhNBJCIyE0EkIjITQSQiMhNBJCIyE0EkIjITQSQiMhNBJCIyE0EkIjITQSQiMhNBL/AXD/LIhjuyWSAAAAAElFTkSuQmCC\" y=\"-6.64\"/>\r\n   </g>\r\n  </g>\r\n </g>\r\n <defs>\r\n  <clipPath id=\"p8d5db79027\">\r\n   <rect height=\"217.44\" width=\"153.782395\" x=\"7.2\" y=\"7.2\"/>\r\n  </clipPath>\r\n </defs>\r\n</svg>\r\n",
      "image/png": "[encoded data removed]"
     },
     "metadata": {
      "needs_background": "light"
     }
    }
   ],
   "metadata": {},
   "execution_count": 92
  },
  {
   "source": [
    "def sort_contours(cnts, method=\"left-to-right\"):\n",
    "    # initialize the reverse flag and sort index\n",
    "    reverse = False\n",
    "    i = 0\n",
    "\n",
    "    # handle if we need to sort in reverse\n",
    "    if method == \"right-to-left\" or method == \"bottom-to-top\":\n",
    "        reverse = True\n",
    "\n",
    "    # handle if we are sorting against the y-coordinate rather than\n",
    "    # the x-coordinate of the bounding box\n",
    "    if method == \"top-to-bottom\" or method == \"bottom-to-top\":\n",
    "        i = 1\n",
    "\n",
    "    # construct the list of bounding boxes and sort them from top to\n",
    "    # bottom\n",
    "    boundingBoxes = [cv2.boundingRect(c) for c in cnts]\n",
    "    (cnts, boundingBoxes) = zip(*sorted(zip(cnts, boundingBoxes),\n",
    "        key=lambda b:b[1][i], reverse=reverse))\n",
    "\n",
    "    # return the list of sorted contours and bounding boxes\n",
    "    return (cnts, boundingBoxes)\n",
    "\n",
    "# Find contours for image, which will detect all the boxes\n",
    "contours, hierarchy = cv2.findContours(img_final_bin, cv2.RETR_TREE, cv2.CHAIN_APPROX_SIMPLE)\n",
    "\n",
    "# Sort all the contours by top to bottom.\n",
    "(contours, boundingBoxes) = sort_contours(contours, method=\"top-to-bottom\")"
   ],
   "cell_type": "code",
   "outputs": [],
   "metadata": {},
   "execution_count": 93
  },
  {
   "source": [
    "#idx = 0\n",
    "for c in contours:\n",
    "    # Returns the location and width,height for every contour\n",
    "    x, y, w, h = cv2.boundingRect(c)\n",
    "    new_img = img[y:y+h,x:x+w]\n",
    "    cv2.imwrite('new_img.jpg',new_img)\n",
    "\n",
    "# If the box height is greater then 20, widht is >80, then only save it as a box in \"cropped/\" folder.\n",
    "    #if (w > 80 and h > 20) and w > 3*h:\n",
    "     #   idx += 1\n",
    "      #  new_img = img[y:y+h, x:x+w]\n",
    "       # plt.subplot(10,1, idx)\n",
    "       # plt.imshow(new_img )\n",
    "       # plt.axis('off')"
   ],
   "cell_type": "code",
   "outputs": [],
   "metadata": {},
   "execution_count": 94
  },
  {
   "source": [
    "plt.axis('off')\n",
    "plt.imshow(new_img)"
   ],
   "cell_type": "code",
   "outputs": [
    {
     "output_type": "execute_result",
     "data": {
      "text/plain": "<matplotlib.image.AxesImage at 0x17b8b222288>"
     },
     "metadata": {},
     "execution_count": 95
    },
    {
     "output_type": "display_data",
     "data": {
      "text/plain": "<Figure size 432x288 with 1 Axes>",
      "image/svg+xml": "<?xml version=\"1.0\" encoding=\"utf-8\" standalone=\"no\"?>\r\n<!DOCTYPE svg PUBLIC \"-//W3C//DTD SVG 1.1//EN\"\r\n  \"http://www.w3.org/Graphics/SVG/1.1/DTD/svg11.dtd\">\r\n<!-- Created with matplotlib (https://matplotlib.org/) -->\r\n<svg height=\"113.139844pt\" version=\"1.1\" viewBox=\"0 0 349.2 113.139844\" width=\"349.2pt\" xmlns=\"http://www.w3.org/2000/svg\" xmlns:xlink=\"http://www.w3.org/1999/xlink\">\r\n <defs>\r\n  <style type=\"text/css\">\r\n*{stroke-linecap:butt;stroke-linejoin:round;}\r\n  </style>\r\n </defs>\r\n <g id=\"figure_1\">\r\n  <g id=\"patch_1\">\r\n   <path d=\"M 0 113.139844 \r\nL 349.2 113.139844 \r\nL 349.2 0 \r\nL 0 0 \r\nz\r\n\" style=\"fill:none;\"/>\r\n  </g>\r\n  <g id=\"axes_1\">\r\n   <g clip-path=\"url(#p937fbbef53)\">\r\n    <image height=\"99\" id=\"image6f50fca42d\" transform=\"scale(1 -1)translate(0 -99)\" width=\"335\" x=\"7.2\" xlink:href=\"data:image/png;base64,\r\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\" y=\"-6.939844\"/>\r\n   </g>\r\n  </g>\r\n </g>\r\n <defs>\r\n  <clipPath id=\"p937fbbef53\">\r\n   <rect height=\"98.739844\" width=\"334.8\" x=\"7.2\" y=\"7.2\"/>\r\n  </clipPath>\r\n </defs>\r\n</svg>\r\n",
      "image/png": "[encoded data removed]"
     },
     "metadata": {
      "needs_background": "light"
     }
    }
   ],
   "metadata": {},
   "execution_count": 95
  },
  {
   "source": [
    "new_img"
   ],
   "cell_type": "code",
   "outputs": [
    {
     "output_type": "execute_result",
     "data": {
      "text/plain": "array([[255, 255, 255, ..., 255, 248, 255],\n       [255, 255, 255, ..., 255, 255, 255],\n       [255, 255, 255, ..., 255, 255, 255],\n       ...,\n       [254, 254, 254, ..., 254, 248, 255],\n       [255, 255, 255, ..., 255, 253, 255],\n       [255, 255, 255, ..., 255, 255, 250]], dtype=uint8)"
     },
     "metadata": {},
     "execution_count": 96
    }
   ],
   "metadata": {},
   "execution_count": 96
  },
  {
   "source": [
    "if new_img.any():\n",
    "    print(True)"
   ],
   "cell_type": "code",
   "outputs": [
    {
     "output_type": "stream",
     "name": "stdout",
     "text": "True\n"
    }
   ],
   "metadata": {},
   "execution_count": 88
  },
  {
   "source": [
    "h"
   ],
   "cell_type": "code",
   "outputs": [
    {
     "output_type": "execute_result",
     "data": {
      "text/plain": "604"
     },
     "metadata": {},
     "execution_count": 81
    }
   ],
   "metadata": {},
   "execution_count": 81
  },
  {
   "cell_type": "code",
   "execution_count": null,
   "metadata": {},
   "outputs": [],
   "source": []
  }
 ]
}