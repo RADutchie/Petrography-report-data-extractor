{
 "nbformat": 4,
 "nbformat_minor": 2,
 "metadata": {
  "language_info": {
   "name": "python",
   "codemirror_mode": {
    "name": "ipython",
    "version": 3
   },
   "version": "3.7.5-final"
  },
  "orig_nbformat": 2,
  "file_extension": ".py",
  "mimetype": "text/x-python",
  "name": "python",
  "npconvert_exporter": "python",
  "pygments_lexer": "ipython3",
  "version": 3,
  "kernelspec": {
   "name": "python37564bittesseractocrconda98f725dae0474fddbdf9b8103e3233bc",
   "display_name": "Python 3.7.5 64-bit ('tesseractOCR': conda)"
  }
 },
 "cells": [
  {
   "cell_type": "code",
   "execution_count": 1,
   "metadata": {},
   "outputs": [
    {
     "data": {
      "text/plain": "'\\nScript to extract text data from Mason petrology reports for load into SA_geodata. Input file path to the pdf \\ndocuments and it will return an excel speadsheet containing the report no, sample no and description.\\n'"
     },
     "execution_count": 1,
     "metadata": {},
     "output_type": "execute_result"
    }
   ],
   "source": [
    "\"\"\"\n",
    "Script to extract text data from Mason petrology reports for load into SA_geodata. Input file path to the pdf \n",
    "documents and it will return an excel speadsheet containing the report no, sample no and description.\n",
    "\"\"\""
   ]
  },
  {
   "cell_type": "code",
   "execution_count": 2,
   "metadata": {},
   "outputs": [],
   "source": [
    "import os\n",
    "from pdf2image import convert_from_path, convert_from_bytes\n",
    "import tempfile\n",
    "import shutil\n",
    "import re\n",
    "import cv2 \n",
    "import numpy as np\n",
    "import pytesseract\n",
    "from pytesseract import Output\n",
    "import pandas as pd\n",
    "pytesseract.pytesseract.tesseract_cmd = 'C:\\\\Program Files\\\\Tesseract-OCR\\\\tesseract.exe'\n",
    "from timeit import default_timer as timer\n",
    "from datetime import datetime"
   ]
  },
  {
   "cell_type": "code",
   "execution_count": 3,
   "metadata": {},
   "outputs": [
    {
     "name": "stdout",
     "output_type": "stream",
     "text": "['C:\\\\Users\\\\dutchr01\\\\MyPyScripts\\\\Mason_pet_extract\\\\Mason_text_ext\\\\3286.pdf', 'C:\\\\Users\\\\dutchr01\\\\MyPyScripts\\\\Mason_pet_extract\\\\Mason_text_ext\\\\3294.pdf', 'C:\\\\Users\\\\dutchr01\\\\MyPyScripts\\\\Mason_pet_extract\\\\Mason_text_ext\\\\3347.pdf', 'C:\\\\Users\\\\dutchr01\\\\MyPyScripts\\\\Mason_pet_extract\\\\Mason_text_ext\\\\3363.pdf', 'C:\\\\Users\\\\dutchr01\\\\MyPyScripts\\\\Mason_pet_extract\\\\Mason_text_ext\\\\3792.pdf', 'C:\\\\Users\\\\dutchr01\\\\MyPyScripts\\\\Mason_pet_extract\\\\Mason_text_ext\\\\3807.pdf', 'C:\\\\Users\\\\dutchr01\\\\MyPyScripts\\\\Mason_pet_extract\\\\Mason_text_ext\\\\3997.pdf', 'C:\\\\Users\\\\dutchr01\\\\MyPyScripts\\\\Mason_pet_extract\\\\Mason_text_ext\\\\3998.pdf', 'C:\\\\Users\\\\dutchr01\\\\MyPyScripts\\\\Mason_pet_extract\\\\Mason_text_ext\\\\4065.pdf', 'C:\\\\Users\\\\dutchr01\\\\MyPyScripts\\\\Mason_pet_extract\\\\Mason_text_ext\\\\4069.pdf', 'C:\\\\Users\\\\dutchr01\\\\MyPyScripts\\\\Mason_pet_extract\\\\Mason_text_ext\\\\4109.pdf', 'C:\\\\Users\\\\dutchr01\\\\MyPyScripts\\\\Mason_pet_extract\\\\Mason_text_ext\\\\4114.pdf', 'C:\\\\Users\\\\dutchr01\\\\MyPyScripts\\\\Mason_pet_extract\\\\Mason_text_ext\\\\4224.pdf', 'C:\\\\Users\\\\dutchr01\\\\MyPyScripts\\\\Mason_pet_extract\\\\Mason_text_ext\\\\4235.pdf', 'C:\\\\Users\\\\dutchr01\\\\MyPyScripts\\\\Mason_pet_extract\\\\Mason_text_ext\\\\MG3792.pdf', 'C:\\\\Users\\\\dutchr01\\\\MyPyScripts\\\\Mason_pet_extract\\\\Mason_text_ext\\\\MG3807.pdf', 'C:\\\\Users\\\\dutchr01\\\\MyPyScripts\\\\Mason_pet_extract\\\\Mason_text_ext\\\\MG3819.pdf', 'C:\\\\Users\\\\dutchr01\\\\MyPyScripts\\\\Mason_pet_extract\\\\Mason_text_ext\\\\MG3919.pdf', 'C:\\\\Users\\\\dutchr01\\\\MyPyScripts\\\\Mason_pet_extract\\\\Mason_text_ext\\\\MG3920.pdf', 'C:\\\\Users\\\\dutchr01\\\\MyPyScripts\\\\Mason_pet_extract\\\\Mason_text_ext\\\\MG3997.pdf', 'C:\\\\Users\\\\dutchr01\\\\MyPyScripts\\\\Mason_pet_extract\\\\Mason_text_ext\\\\MG4051.pdf', 'C:\\\\Users\\\\dutchr01\\\\MyPyScripts\\\\Mason_pet_extract\\\\Mason_text_ext\\\\MG4058.pdf', 'C:\\\\Users\\\\dutchr01\\\\MyPyScripts\\\\Mason_pet_extract\\\\Mason_text_ext\\\\MG4188.pdf', 'C:\\\\Users\\\\dutchr01\\\\MyPyScripts\\\\Mason_pet_extract\\\\Mason_text_ext\\\\MG4196.pdf', 'C:\\\\Users\\\\dutchr01\\\\MyPyScripts\\\\Mason_pet_extract\\\\Mason_text_ext\\\\MG4224.pdf']\n"
    }
   ],
   "source": [
    "#pdf_path = os.path.normpath(str(input(f'Please input the full path to the pdf files:')))\n",
    "pdf_path = os.path.normpath('C:\\\\Users\\\\dutchr01\\\\MyPyScripts\\\\Mason_pet_extract\\\\Mason_text_ext')\n",
    "\n",
    "pdf_list = []\n",
    "with os.scandir(pdf_path) as it:\n",
    "    for entry in it:\n",
    "        if entry.name.endswith(\".pdf\") and entry.is_file():\n",
    "            pdf_list.append(entry.path)\n",
    "\n",
    "print(pdf_list)"
   ]
  },
  {
   "cell_type": "code",
   "execution_count": 4,
   "metadata": {},
   "outputs": [
    {
     "name": "stdout",
     "output_type": "stream",
     "text": "working on 3286.pdf\nlengths are equal :True\nworking on 3294.pdf\nlengths are equal :True\nworking on 3347.pdf\nlengths are equal :True\nworking on 3363.pdf\nlengths are equal :True\nworking on 3792.pdf\nlengths are equal :True\nworking on 3807.pdf\nlengths are equal :True\nworking on 3997.pdf\nlengths are equal :True\nworking on 3998.pdf\nlengths are equal :True\nworking on 4065.pdf\nlengths are equal :True\nworking on 4069.pdf\nlengths are equal :True\nworking on 4109.pdf\nlengths are equal :True\nworking on 4114.pdf\nlengths are equal :True\nworking on 4224.pdf\nlengths are equal :True\nworking on 4235.pdf\nlengths are equal :True\nworking on MG3792.pdf\nlengths are equal :True\nworking on MG3807.pdf\nlengths are equal :True\nworking on MG3819.pdf\nlengths are equal :True\nworking on MG3919.pdf\nlengths are equal :True\nworking on MG3920.pdf\nlengths are equal :True\nworking on MG3997.pdf\nlengths are equal :True\nworking on MG4051.pdf\nlengths are equal :True\nworking on MG4058.pdf\nlengths are equal :True\nworking on MG4188.pdf\nlengths are equal :True\nworking on MG4196.pdf\nlengths are equal :True\nworking on MG4224.pdf\nlengths are equal :True\n"
    }
   ],
   "source": [
    "\n",
    "start = timer()\n",
    "\n",
    "\n",
    "report_dict = {'Report_No':[], 'Sample_No':[], 'Description':[]}\n",
    "rock_type_dict = {'Sample_No':[], 'Rock_Type':[]}\n",
    "\n",
    "# config for TesseractOCR\n",
    "custom_config = r'--oem 3 --psm 6'\n",
    "\n",
    "#create a temp directory and Convert pdf pages to individual jpg images for OCR and image extraction\n",
    "\n",
    "temp_dir = tempfile.TemporaryDirectory()\n",
    "f_name = ''\n",
    "\n",
    "\n",
    "for pdf in pdf_list:\n",
    "    jpg_path_list = []\n",
    "    OCR_text_lst = []\n",
    "    f_name = pdf.split('\\\\')[-1]\n",
    "    images = convert_from_path(pdf, dpi = 300, output_folder=temp_dir.name,fmt='jpg')\n",
    "    \n",
    "# close PIL image objects\n",
    "    for im in images:\n",
    "        im.close()\n",
    "\n",
    "    print(f'working on {f_name}')\n",
    "\n",
    "#scan a file directory and return a list of jpg files to iterate over\n",
    "    with os.scandir(temp_dir.name) as it:\n",
    "        for entry in it:\n",
    "            if entry.name.endswith(\".jpg\") and entry.is_file():\n",
    "                jpg_path_list.append(entry.path)\n",
    "\n",
    "    for im_path in jpg_path_list:\n",
    "        image = cv2.imread(im_path, 0)\n",
    "        d = pytesseract.image_to_string(image, config=custom_config)\n",
    "        OCR_text_lst.append(d)\n",
    "\n",
    "    #Grab the footer text from page 2 of pdf\n",
    "    footer = OCR_text_lst[1].split('\\n')\n",
    "    footer[-1]\n",
    "\n",
    "    #generate the regex pattern to remove the footer from pages\n",
    "    start = footer[-1].split()[0] +' '+ footer[-1].split()[1]\n",
    "    end = footer[-1].split()[-2] +' '+ footer[-1].split()[-1]\n",
    "    footer_pattern = (f'{start}(.*?){end}')\n",
    "    \n",
    "    #generate a single string from the list of strings \n",
    "    text_string = ''\n",
    "    raw_text = text_string.join(OCR_text_lst)\n",
    "    raw_text\n",
    "\n",
    "    #find and replace footer with white space\n",
    "    text_c1 = re.sub(footer_pattern,'',raw_text)\n",
    "    \n",
    "    #Find the idx of the first instance of 'SAMPLE' used as a sample page headder, to  remove preceeding intro pages\n",
    "    petro = text_c1.find('PETROGRAPHIC')\n",
    "    first_sample = text_c1[petro:].find('SAMPLE') + petro\n",
    "    \n",
    "    # new string only contining the samples and removing all multiple newlines but adding extra newline at section headdings, then splitting into individual samples\n",
    "    \n",
    "    text_c2 = re.sub(r\"\\n+\", \"\\n\", text_c1[first_sample:])\n",
    "    text_c2 = re.sub(r\"(?<=\\w)\\.\\n(?=\\w)\",\".\\n\\n\", text_c2)\n",
    "    #text_c2 = re.sub(r\"(?<=\\w)\\n(?=\\w)\",\" \", text_c2,) #This will grab \\n in text and replace w wht space but messes with mineral lists\n",
    "\n",
    "    text_c2 = text_c2.replace('SAMPLE','***SAMPLE').replace('HOLE','\\nHOLE').replace('LITH','\\nLITH').replace('COMMENT','\\nCOMMENT').replace('SECTION','\\nSECTION').replace('HAND','\\nHAND').replace('FIG','\\nFIG').replace('ROCK','\\nROCK').replace('PETROGRAPHY','\\nPETROGRAPHY').replace('Mineral','\\nMineral').replace('In thin section','\\nIn thin section').replace('INTERPRETATION','\\nINTERPRETATION').replace('SOURCE','\\nSOURCE').replace('OTHER','\\nOTHER').replace('STRAT/\\nLITH', '\\nSTRAT/LITH').replace('APPENDIX','\\nAPPENDIX').replace('BRIEF','\\nBRIEF').replace('In polished thin','\\nIn polished thin').replace('CLIENT','\\nCLIENT').replace('FIELD','\\nFIELD').replace('GA NO','\\nGA NO').split('***')\n",
    "\n",
    "   #remove empty strings from list\n",
    "    descriptions = [x for x in text_c2 if x]\n",
    "    \n",
    "    fig_pattern = '(FIG|Fig)'\n",
    "    sample_no_list =[]\n",
    "    sample_no_pattern = '(\\d{7})|(R\\d{7})'\n",
    "    fig_list = []\n",
    "    rock_pattern = r\"(?s)ROCK N.*?:(.*?)PETRO\"\n",
    "    rock_list = []\n",
    "    for l in descriptions:\n",
    "        m = re.search(sample_no_pattern,l)\n",
    "        f = re.search(fig_pattern,l)\n",
    "        roc = re.search(rock_pattern,l,)\n",
    "        if m:\n",
    "            sample_no_list.append(m.group().strip('R'))\n",
    "        if f:\n",
    "            fig_list.append(m.group().strip('R'))\n",
    "        if roc:\n",
    "            rock_list.append(roc.group(1))\n",
    "\n",
    "    print(f'lengths are equal :{len(descriptions) == len(sample_no_list)}')\n",
    "\n",
    "    report_list = []\n",
    "    for i in range(len(descriptions)):\n",
    "        report_list.append(f_name)\n",
    "\n",
    "    report_dict['Report_No'].append(report_list)\n",
    "    report_dict['Sample_No'].append(sample_no_list)\n",
    "    report_dict['Description'].append(descriptions)\n",
    "    rock_type_dict['Sample_No'].append(sample_no_list)\n",
    "    rock_type_dict['Rock_Type'].append(rock_list)\n",
    "\n",
    "    #remove images from previous loop\n",
    "    with os.scandir(temp_dir.name) as it:\n",
    "        for entry in it:\n",
    "            if entry.name.endswith(\".jpg\") and entry.is_file():\n",
    "                os.remove(entry)\n",
    "\n"
   ]
  },
  {
   "cell_type": "code",
   "execution_count": 5,
   "metadata": {},
   "outputs": [],
   "source": [
    "#print(text_c2)"
   ]
  },
  {
   "cell_type": "code",
   "execution_count": 85,
   "metadata": {},
   "outputs": [
    {
     "data": {
      "text/plain": "[['3286.pdf', 10, 10, 10, 10, 10],\n ['3294.pdf', 17, 13, 17, 13, 11],\n ['3347.pdf', 29, 25, 29, 25, 9],\n ['3363.pdf', 26, 22, 26, 22, 9],\n ['3792.pdf', 21, 21, 21, 21, 21],\n ['3807.pdf', 17, 17, 17, 17, 17],\n ['3997.pdf', 47, 47, 47, 47, 47],\n ['3998.pdf', 9, 9, 9, 9, 9],\n ['4065.pdf', 20, 20, 20, 20, 20],\n ['4069.pdf', 7, 7, 7, 7, 7],\n ['4109.pdf', 26, 26, 26, 26, 26],\n ['4114.pdf', 2, 2, 2, 2, 2],\n ['4224.pdf', 67, 67, 67, 67, 67],\n ['4235.pdf', 2, 2, 2, 2, 2],\n ['MG3792.pdf', 21, 21, 21, 21, 21],\n ['MG3807.pdf', 17, 17, 17, 17, 17],\n ['MG3819.pdf', 33, 33, 33, 33, 33],\n ['MG3919.pdf', 8, 8, 8, 8, 8],\n ['MG3920.pdf', 24, 24, 24, 24, 24],\n ['MG3997.pdf', 47, 47, 47, 47, 47],\n ['MG4051.pdf', 23, 23, 23, 23, 23],\n ['MG4058.pdf', 6, 6, 6, 6, 6],\n ['MG4188.pdf', 32, 32, 32, 32, 32],\n ['MG4196.pdf', 4, 4, 4, 4, 4],\n ['MG4224.pdf', 67, 67, 67, 67, 67]]"
     },
     "execution_count": 85,
     "metadata": {},
     "output_type": "execute_result"
    }
   ],
   "source": [
    "# Cell to verify all reports have correct number of samples and descriptions, if not they can be dropped from export\n",
    "length_chek = []\n",
    "index_list =[]\n",
    "for i, (a,b,c,l,k) in enumerate(zip(report_dict['Report_No'],report_dict['Sample_No'],report_dict['Description'],rock_type_dict['Sample_No'],rock_type_dict['Rock_Type'])):\n",
    "    length_chek.append([a[0],len(a),len(b),len(c),len(l),len(k)])\n",
    "    if len(b)!=len(c) or len(l)!=len(k):\n",
    "        index_list.append(i)\n",
    "\n",
    "\n",
    "length_chek"
   ]
  },
  {
   "cell_type": "code",
   "execution_count": 86,
   "metadata": {},
   "outputs": [
    {
     "data": {
      "text/plain": "[1, 2, 3]"
     },
     "execution_count": 86,
     "metadata": {},
     "output_type": "execute_result"
    }
   ],
   "source": [
    "index_list"
   ]
  },
  {
   "cell_type": "code",
   "execution_count": 89,
   "metadata": {},
   "outputs": [
    {
     "data": {
      "text/html": "<div>\n<style scoped>\n    .dataframe tbody tr th:only-of-type {\n        vertical-align: middle;\n    }\n\n    .dataframe tbody tr th {\n        vertical-align: top;\n    }\n\n    .dataframe thead th {\n        text-align: right;\n    }\n</style>\n<table border=\"1\" class=\"dataframe\">\n  <thead>\n    <tr style=\"text-align: right;\">\n      <th></th>\n      <th>Report_No</th>\n      <th>Sample_No</th>\n      <th>Description</th>\n    </tr>\n  </thead>\n  <tbody>\n    <tr>\n      <th>0</th>\n      <td>[3286.pdf, 3286.pdf, 3286.pdf, 3286.pdf, 3286....</td>\n      <td>[1039227, 1039229, 1039230, 1039232, 1039233, ...</td>\n      <td>[SAMPLE : R1039227 (Pitjantjatjara Supersuite,...</td>\n    </tr>\n    <tr>\n      <th>1</th>\n      <td>[3294.pdf, 3294.pdf, 3294.pdf, 3294.pdf, 3294....</td>\n      <td>[1473471, 1473484, 1473485, 1473489, 1473491, ...</td>\n      <td>[SAMPLE : 1473471 (Mt Painter Inlier, SA)\\n\\nS...</td>\n    </tr>\n    <tr>\n      <th>2</th>\n      <td>[3347.pdf, 3347.pdf, 3347.pdf, 3347.pdf, 3347....</td>\n      <td>[1564585, 1564582, 1564575, 1565711, 1565712, ...</td>\n      <td>[SAMPLE : R1564585 (Michael Hills Mafic/Ultram...</td>\n    </tr>\n    <tr>\n      <th>3</th>\n      <td>[3363.pdf, 3363.pdf, 3363.pdf, 3363.pdf, 3363....</td>\n      <td>[1565714, 1565715, 1565717, 1565722, 1565724, ...</td>\n      <td>[SAMPLE R# : R1565714 (Harcus Intrusion, Giles...</td>\n    </tr>\n    <tr>\n      <th>4</th>\n      <td>[3792.pdf, 3792.pdf, 3792.pdf, 3792.pdf, 3792....</td>\n      <td>[1842253, 1842254, 1842255, 1842256, 1842257, ...</td>\n      <td>[SAMPLE ID : 1842253 (Tieyon 1:100,000 Map She...</td>\n    </tr>\n    <tr>\n      <th>5</th>\n      <td>[3807.pdf, 3807.pdf, 3807.pdf, 3807.pdf, 3807....</td>\n      <td>[1834087, 1834090, 1834091, 1834092, 1834093, ...</td>\n      <td>[SAMPLE NO. : 1834087 (Fowler Map Sheet, South...</td>\n    </tr>\n    <tr>\n      <th>6</th>\n      <td>[3997.pdf, 3997.pdf, 3997.pdf, 3997.pdf, 3997....</td>\n      <td>[2012525, 2012537, 2012539, 2012548, 2012549, ...</td>\n      <td>[SAMPLE ID : 2012525 (Musgrave Province, South...</td>\n    </tr>\n    <tr>\n      <th>7</th>\n      <td>[3998.pdf, 3998.pdf, 3998.pdf, 3998.pdf, 3998....</td>\n      <td>[1851423, 1900382, 2053760, 2054871, 2054872, ...</td>\n      <td>[SAMPLE NO. : 1851423\\nDRILL \\nHOLE,m_— : SAE6...</td>\n    </tr>\n    <tr>\n      <th>8</th>\n      <td>[4065.pdf, 4065.pdf, 4065.pdf, 4065.pdf, 4065....</td>\n      <td>[2066659, 2066660, 2066661, 2066647, 2066648, ...</td>\n      <td>[SAMPLE R# : R2066659 (Emmie Bluff Prospect, G...</td>\n    </tr>\n    <tr>\n      <th>9</th>\n      <td>[4069.pdf, 4069.pdf, 4069.pdf, 4069.pdf, 4069....</td>\n      <td>[1998158, 1998160, 1998163, 2016125, 2018616, ...</td>\n      <td>[SAMPLE NO. : 1998158 (South Australia)\\n\\nOTH...</td>\n    </tr>\n    <tr>\n      <th>10</th>\n      <td>[4109.pdf, 4109.pdf, 4109.pdf, 4109.pdf, 4109....</td>\n      <td>[2131375, 2131378, 2131379, 2131396, 2134832, ...</td>\n      <td>[SAMPLE : 2131375 (West Craton Margins Project...</td>\n    </tr>\n    <tr>\n      <th>11</th>\n      <td>[4114.pdf, 4114.pdf]</td>\n      <td>[2131354, 2131365]</td>\n      <td>[SAMPLE : 2131354 (Gawler Range Volcanics, Sou...</td>\n    </tr>\n    <tr>\n      <th>12</th>\n      <td>[4224.pdf, 4224.pdf, 4224.pdf, 4224.pdf, 4224....</td>\n      <td>[2427063, 2427064, 2427070, 2427072, 2427074, ...</td>\n      <td>[SAMPLE : 2427063 (Coompana Drilling Project, ...</td>\n    </tr>\n    <tr>\n      <th>13</th>\n      <td>[4235.pdf, 4235.pdf]</td>\n      <td>[2423711, 2423721]</td>\n      <td>[SAMPLE ID : R2423711 (Coompana Drilling Proje...</td>\n    </tr>\n    <tr>\n      <th>14</th>\n      <td>[MG3792.pdf, MG3792.pdf, MG3792.pdf, MG3792.pd...</td>\n      <td>[1842253, 1842254, 1842255, 1842256, 1842257, ...</td>\n      <td>[SAMPLE ID : 1842253 (Tieyon 1:100,000 Map She...</td>\n    </tr>\n    <tr>\n      <th>15</th>\n      <td>[MG3807.pdf, MG3807.pdf, MG3807.pdf, MG3807.pd...</td>\n      <td>[1834087, 1834090, 1834091, 1834092, 1834093, ...</td>\n      <td>[SAMPLE NO. : 1834087 (Fowler Map Sheet, South...</td>\n    </tr>\n    <tr>\n      <th>16</th>\n      <td>[MG3819.pdf, MG3819.pdf, MG3819.pdf, MG3819.pd...</td>\n      <td>[1850737, 1850738, 1850739, 1850740, 1850741, ...</td>\n      <td>[SAMPLE : R1850737 (Tieyon 1:100,000 Map Sheet...</td>\n    </tr>\n    <tr>\n      <th>17</th>\n      <td>[MG3919.pdf, MG3919.pdf, MG3919.pdf, MG3919.pd...</td>\n      <td>[1963543, 1963547, 1969092, 1969096, 1969097, ...</td>\n      <td>[SAMPLE NO. : 1963543 (Gairdner Dyke Swarm, So...</td>\n    </tr>\n    <tr>\n      <th>18</th>\n      <td>[MG3920.pdf, MG3920.pdf, MG3920.pdf, MG3920.pd...</td>\n      <td>[1961330, 1961332, 1961334, 1961335, 1961337, ...</td>\n      <td>[SAMPLE NO. : 1961330 (De Rose Hill, South Aus...</td>\n    </tr>\n    <tr>\n      <th>19</th>\n      <td>[MG3997.pdf, MG3997.pdf, MG3997.pdf, MG3997.pd...</td>\n      <td>[2012525, 2012537, 2012539, 2012548, 2012549, ...</td>\n      <td>[SAMPLE ID : 2012525 (Musgrave Province, South...</td>\n    </tr>\n    <tr>\n      <th>20</th>\n      <td>[MG4051.pdf, MG4051.pdf, MG4051.pdf, MG4051.pd...</td>\n      <td>[2012584, 2017273, 2017279, 2062010, 2062012, ...</td>\n      <td>[SAMPLE NO. : 2012584\\n\\nOTHER NOS. I\\nLOCATIO...</td>\n    </tr>\n    <tr>\n      <th>21</th>\n      <td>[MG4058.pdf, MG4058.pdf, MG4058.pdf, MG4058.pd...</td>\n      <td>[2014899, 2014900, 2014901, 2061987, 2061992, ...</td>\n      <td>[SAMPLE NO. : 2014899 (Alcurra Map Sheet, Musg...</td>\n    </tr>\n    <tr>\n      <th>22</th>\n      <td>[MG4188.pdf, MG4188.pdf, MG4188.pdf, MG4188.pd...</td>\n      <td>[2137948, 2137949, 2137987, 2138095, 2138096, ...</td>\n      <td>[SAMPLE ID : R2137948 (Wudinna region, South A...</td>\n    </tr>\n    <tr>\n      <th>23</th>\n      <td>[MG4196.pdf, MG4196.pdf, MG4196.pdf, MG4196.pdf]</td>\n      <td>[1588243, 1588242, 1588240, 1588241]</td>\n      <td>[SAMPLE R# : R1588243 (Barossa Complex, South ...</td>\n    </tr>\n    <tr>\n      <th>24</th>\n      <td>[MG4224.pdf, MG4224.pdf, MG4224.pdf, MG4224.pd...</td>\n      <td>[2427063, 2427064, 2427070, 2427072, 2427074, ...</td>\n      <td>[SAMPLE : 2427063 (Coompana Drilling Project, ...</td>\n    </tr>\n  </tbody>\n</table>\n</div>",
      "text/plain": "                                            Report_No  \\\n0   [3286.pdf, 3286.pdf, 3286.pdf, 3286.pdf, 3286....   \n1   [3294.pdf, 3294.pdf, 3294.pdf, 3294.pdf, 3294....   \n2   [3347.pdf, 3347.pdf, 3347.pdf, 3347.pdf, 3347....   \n3   [3363.pdf, 3363.pdf, 3363.pdf, 3363.pdf, 3363....   \n4   [3792.pdf, 3792.pdf, 3792.pdf, 3792.pdf, 3792....   \n5   [3807.pdf, 3807.pdf, 3807.pdf, 3807.pdf, 3807....   \n6   [3997.pdf, 3997.pdf, 3997.pdf, 3997.pdf, 3997....   \n7   [3998.pdf, 3998.pdf, 3998.pdf, 3998.pdf, 3998....   \n8   [4065.pdf, 4065.pdf, 4065.pdf, 4065.pdf, 4065....   \n9   [4069.pdf, 4069.pdf, 4069.pdf, 4069.pdf, 4069....   \n10  [4109.pdf, 4109.pdf, 4109.pdf, 4109.pdf, 4109....   \n11                               [4114.pdf, 4114.pdf]   \n12  [4224.pdf, 4224.pdf, 4224.pdf, 4224.pdf, 4224....   \n13                               [4235.pdf, 4235.pdf]   \n14  [MG3792.pdf, MG3792.pdf, MG3792.pdf, MG3792.pd...   \n15  [MG3807.pdf, MG3807.pdf, MG3807.pdf, MG3807.pd...   \n16  [MG3819.pdf, MG3819.pdf, MG3819.pdf, MG3819.pd...   \n17  [MG3919.pdf, MG3919.pdf, MG3919.pdf, MG3919.pd...   \n18  [MG3920.pdf, MG3920.pdf, MG3920.pdf, MG3920.pd...   \n19  [MG3997.pdf, MG3997.pdf, MG3997.pdf, MG3997.pd...   \n20  [MG4051.pdf, MG4051.pdf, MG4051.pdf, MG4051.pd...   \n21  [MG4058.pdf, MG4058.pdf, MG4058.pdf, MG4058.pd...   \n22  [MG4188.pdf, MG4188.pdf, MG4188.pdf, MG4188.pd...   \n23   [MG4196.pdf, MG4196.pdf, MG4196.pdf, MG4196.pdf]   \n24  [MG4224.pdf, MG4224.pdf, MG4224.pdf, MG4224.pd...   \n\n                                            Sample_No  \\\n0   [1039227, 1039229, 1039230, 1039232, 1039233, ...   \n1   [1473471, 1473484, 1473485, 1473489, 1473491, ...   \n2   [1564585, 1564582, 1564575, 1565711, 1565712, ...   \n3   [1565714, 1565715, 1565717, 1565722, 1565724, ...   \n4   [1842253, 1842254, 1842255, 1842256, 1842257, ...   \n5   [1834087, 1834090, 1834091, 1834092, 1834093, ...   \n6   [2012525, 2012537, 2012539, 2012548, 2012549, ...   \n7   [1851423, 1900382, 2053760, 2054871, 2054872, ...   \n8   [2066659, 2066660, 2066661, 2066647, 2066648, ...   \n9   [1998158, 1998160, 1998163, 2016125, 2018616, ...   \n10  [2131375, 2131378, 2131379, 2131396, 2134832, ...   \n11                                 [2131354, 2131365]   \n12  [2427063, 2427064, 2427070, 2427072, 2427074, ...   \n13                                 [2423711, 2423721]   \n14  [1842253, 1842254, 1842255, 1842256, 1842257, ...   \n15  [1834087, 1834090, 1834091, 1834092, 1834093, ...   \n16  [1850737, 1850738, 1850739, 1850740, 1850741, ...   \n17  [1963543, 1963547, 1969092, 1969096, 1969097, ...   \n18  [1961330, 1961332, 1961334, 1961335, 1961337, ...   \n19  [2012525, 2012537, 2012539, 2012548, 2012549, ...   \n20  [2012584, 2017273, 2017279, 2062010, 2062012, ...   \n21  [2014899, 2014900, 2014901, 2061987, 2061992, ...   \n22  [2137948, 2137949, 2137987, 2138095, 2138096, ...   \n23               [1588243, 1588242, 1588240, 1588241]   \n24  [2427063, 2427064, 2427070, 2427072, 2427074, ...   \n\n                                          Description  \n0   [SAMPLE : R1039227 (Pitjantjatjara Supersuite,...  \n1   [SAMPLE : 1473471 (Mt Painter Inlier, SA)\\n\\nS...  \n2   [SAMPLE : R1564585 (Michael Hills Mafic/Ultram...  \n3   [SAMPLE R# : R1565714 (Harcus Intrusion, Giles...  \n4   [SAMPLE ID : 1842253 (Tieyon 1:100,000 Map She...  \n5   [SAMPLE NO. : 1834087 (Fowler Map Sheet, South...  \n6   [SAMPLE ID : 2012525 (Musgrave Province, South...  \n7   [SAMPLE NO. : 1851423\\nDRILL \\nHOLE,m_— : SAE6...  \n8   [SAMPLE R# : R2066659 (Emmie Bluff Prospect, G...  \n9   [SAMPLE NO. : 1998158 (South Australia)\\n\\nOTH...  \n10  [SAMPLE : 2131375 (West Craton Margins Project...  \n11  [SAMPLE : 2131354 (Gawler Range Volcanics, Sou...  \n12  [SAMPLE : 2427063 (Coompana Drilling Project, ...  \n13  [SAMPLE ID : R2423711 (Coompana Drilling Proje...  \n14  [SAMPLE ID : 1842253 (Tieyon 1:100,000 Map She...  \n15  [SAMPLE NO. : 1834087 (Fowler Map Sheet, South...  \n16  [SAMPLE : R1850737 (Tieyon 1:100,000 Map Sheet...  \n17  [SAMPLE NO. : 1963543 (Gairdner Dyke Swarm, So...  \n18  [SAMPLE NO. : 1961330 (De Rose Hill, South Aus...  \n19  [SAMPLE ID : 2012525 (Musgrave Province, South...  \n20  [SAMPLE NO. : 2012584\\n\\nOTHER NOS. I\\nLOCATIO...  \n21  [SAMPLE NO. : 2014899 (Alcurra Map Sheet, Musg...  \n22  [SAMPLE ID : R2137948 (Wudinna region, South A...  \n23  [SAMPLE R# : R1588243 (Barossa Complex, South ...  \n24  [SAMPLE : 2427063 (Coompana Drilling Project, ...  "
     },
     "execution_count": 89,
     "metadata": {},
     "output_type": "execute_result"
    }
   ],
   "source": [
    "df_all = pd.DataFrame(report_dict)\n",
    "df_all"
   ]
  },
  {
   "cell_type": "code",
   "execution_count": 94,
   "metadata": {},
   "outputs": [
    {
     "data": {
      "text/html": "<div>\n<style scoped>\n    .dataframe tbody tr th:only-of-type {\n        vertical-align: middle;\n    }\n\n    .dataframe tbody tr th {\n        vertical-align: top;\n    }\n\n    .dataframe thead th {\n        text-align: right;\n    }\n</style>\n<table border=\"1\" class=\"dataframe\">\n  <thead>\n    <tr style=\"text-align: right;\">\n      <th></th>\n      <th>Report_No</th>\n      <th>Sample_No</th>\n      <th>Description</th>\n    </tr>\n  </thead>\n  <tbody>\n    <tr>\n      <th>1</th>\n      <td>[3294.pdf, 3294.pdf, 3294.pdf, 3294.pdf, 3294....</td>\n      <td>[1473471, 1473484, 1473485, 1473489, 1473491, ...</td>\n      <td>[SAMPLE : 1473471 (Mt Painter Inlier, SA)\\n\\nS...</td>\n    </tr>\n    <tr>\n      <th>2</th>\n      <td>[3347.pdf, 3347.pdf, 3347.pdf, 3347.pdf, 3347....</td>\n      <td>[1564585, 1564582, 1564575, 1565711, 1565712, ...</td>\n      <td>[SAMPLE : R1564585 (Michael Hills Mafic/Ultram...</td>\n    </tr>\n    <tr>\n      <th>3</th>\n      <td>[3363.pdf, 3363.pdf, 3363.pdf, 3363.pdf, 3363....</td>\n      <td>[1565714, 1565715, 1565717, 1565722, 1565724, ...</td>\n      <td>[SAMPLE R# : R1565714 (Harcus Intrusion, Giles...</td>\n    </tr>\n  </tbody>\n</table>\n</div>",
      "text/plain": "                                           Report_No  \\\n1  [3294.pdf, 3294.pdf, 3294.pdf, 3294.pdf, 3294....   \n2  [3347.pdf, 3347.pdf, 3347.pdf, 3347.pdf, 3347....   \n3  [3363.pdf, 3363.pdf, 3363.pdf, 3363.pdf, 3363....   \n\n                                           Sample_No  \\\n1  [1473471, 1473484, 1473485, 1473489, 1473491, ...   \n2  [1564585, 1564582, 1564575, 1565711, 1565712, ...   \n3  [1565714, 1565715, 1565717, 1565722, 1565724, ...   \n\n                                         Description  \n1  [SAMPLE : 1473471 (Mt Painter Inlier, SA)\\n\\nS...  \n2  [SAMPLE : R1564585 (Michael Hills Mafic/Ultram...  \n3  [SAMPLE R# : R1565714 (Harcus Intrusion, Giles...  "
     },
     "execution_count": 94,
     "metadata": {},
     "output_type": "execute_result"
    }
   ],
   "source": [
    "df_failed = df_all.loc[index_list]"
   ]
  },
  {
   "cell_type": "code",
   "execution_count": 96,
   "metadata": {},
   "outputs": [],
   "source": [
    "# create dataframe and export to excel\n",
    "df = pd.DataFrame(report_dict).drop(index_list).apply(pd.Series.explode)\n",
    "\n",
    "df2 = pd.Series(fig_list)\n",
    "\n",
    "df_failed = df_all.loc[index_list]\n",
    "\n",
    "df_rock = pd.DataFrame(rock_type_dict).drop(index_list).apply(pd.Series.explode)\n",
    "\n",
    "now = datetime.now().strftime(\"%Y%m%d_%H%M\")\n",
    "\n",
    "with pd.ExcelWriter(pdf_path+'\\\\'+now+'_Mason_petrology_export.xlsx') as writer:\n",
    "    df.to_excel(writer, sheet_name = 'extracted_pet_descriptions', index=False)\n",
    "    df_failed.to_excel(writer, sheet_name = 'Failed_extract', index=False)\n",
    "    df2.to_excel(writer, sheet_name='Samples with figs', index=False)\n",
    "\n",
    "with pd.ExcelWriter(pdf_path+'\\\\'+now+'_Rock_types.xlsx') as writer:\n",
    "    df_rock.to_excel(writer, sheet_name = 'Mason_rock_types', index=False)\n",
    "\n",
    "\n"
   ]
  },
  {
   "cell_type": "code",
   "execution_count": 84,
   "metadata": {},
   "outputs": [
    {
     "data": {
      "text/plain": "[]"
     },
     "execution_count": 84,
     "metadata": {},
     "output_type": "execute_result"
    }
   ],
   "source": [
    "fig_list"
   ]
  },
  {
   "cell_type": "code",
   "execution_count": null,
   "metadata": {},
   "outputs": [],
   "source": []
  }
 ]
}