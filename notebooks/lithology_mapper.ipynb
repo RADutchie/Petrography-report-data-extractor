{
 "nbformat": 4,
 "nbformat_minor": 2,
 "metadata": {
  "language_info": {
   "name": "python",
   "codemirror_mode": {
    "name": "ipython",
    "version": 3
   },
   "version": "3.7.5-final"
  },
  "orig_nbformat": 2,
  "file_extension": ".py",
  "mimetype": "text/x-python",
  "name": "python",
  "npconvert_exporter": "python",
  "pygments_lexer": "ipython3",
  "version": 3,
  "kernelspec": {
   "name": "python37564bittesseractocrconda98f725dae0474fddbdf9b8103e3233bc",
   "display_name": "Python 3.7.5 64-bit ('tesseractOCR': conda)"
  }
 },
 "cells": [
  {
   "cell_type": "code",
   "execution_count": 1,
   "metadata": {},
   "outputs": [],
   "source": [
    "import numpy as np \n",
    "import pandas as pd \n",
    "import json\n",
    "import os\n",
    "import re\n",
    "from datetime import datetime\n",
    "import nltk"
   ]
  },
  {
   "cell_type": "code",
   "execution_count": null,
   "metadata": {},
   "outputs": [],
   "source": [
    "#nltk.download_shell()"
   ]
  },
  {
   "cell_type": "code",
   "execution_count": 2,
   "metadata": {},
   "outputs": [],
   "source": [
    "path = os.path.normpath(r'C:\\Users\\dutchr01\\MyPyScripts\\Mason_pet_extract\\Mason_text_ext\\20200206_1602_Rock_types.xlsx')\n",
    "df = pd.read_excel(path)\n",
    "out_path,file_name = os.path.split(path)\n",
    "lith_path = os.path.normpath(r'C:\\Users\\dutchr01\\MyPyScripts\\Mason_pet_extract\\rock_dict.json')\n",
    "lith_dict = json.load(open(lith_path))"
   ]
  },
  {
   "cell_type": "code",
   "execution_count": 6,
   "metadata": {},
   "outputs": [
    {
     "data": {
      "text/html": "<div>\n<style scoped>\n    .dataframe tbody tr th:only-of-type {\n        vertical-align: middle;\n    }\n\n    .dataframe tbody tr th {\n        vertical-align: top;\n    }\n\n    .dataframe thead th {\n        text-align: right;\n    }\n</style>\n<table border=\"1\" class=\"dataframe\">\n  <thead>\n    <tr style=\"text-align: right;\">\n      <th></th>\n      <th>Sample_No</th>\n      <th>Rock_Type</th>\n    </tr>\n  </thead>\n  <tbody>\n    <tr>\n      <th>0</th>\n      <td>1039227</td>\n      <td>Biotite monzogranite\\n\\n</td>\n    </tr>\n    <tr>\n      <th>1</th>\n      <td>1039229</td>\n      <td>Foliated meta-biotite tonalite\\n\\n</td>\n    </tr>\n    <tr>\n      <th>2</th>\n      <td>1039230</td>\n      <td>Porphyritic biotite monzogranite\\n\\n</td>\n    </tr>\n    <tr>\n      <th>3</th>\n      <td>1039232</td>\n      <td>Flow-lineated aplitic leuco-biotite syenogran...</td>\n    </tr>\n    <tr>\n      <th>4</th>\n      <td>1039233</td>\n      <td>Banded hornblende-biotite gneiss (foliated ma...</td>\n    </tr>\n  </tbody>\n</table>\n</div>",
      "text/plain": "   Sample_No                                          Rock_Type\n0    1039227                           Biotite monzogranite\\n\\n\n1    1039229                 Foliated meta-biotite tonalite\\n\\n\n2    1039230               Porphyritic biotite monzogranite\\n\\n\n3    1039232   Flow-lineated aplitic leuco-biotite syenogran...\n4    1039233   Banded hornblende-biotite gneiss (foliated ma..."
     },
     "execution_count": 6,
     "metadata": {},
     "output_type": "execute_result"
    }
   ],
   "source": [
    "df.head()"
   ]
  },
  {
   "cell_type": "code",
   "execution_count": 16,
   "metadata": {},
   "outputs": [
    {
     "ename": "AttributeError",
     "evalue": "Can only use .str accessor with string values!",
     "output_type": "error",
     "traceback": [
      "\u001b[1;31m---------------------------------------------------------------------------\u001b[0m",
      "\u001b[1;31mAttributeError\u001b[0m                            Traceback (most recent call last)",
      "\u001b[1;32m<ipython-input-16-fb8023f4f385>\u001b[0m in \u001b[0;36m<module>\u001b[1;34m()\u001b[0m\n\u001b[1;32m----> 1\u001b[1;33m \u001b[0mdf\u001b[0m\u001b[1;33m[\u001b[0m\u001b[1;34m'Rock_Type'\u001b[0m\u001b[1;33m]\u001b[0m \u001b[1;33m=\u001b[0m \u001b[0mdf\u001b[0m\u001b[1;33m[\u001b[0m\u001b[1;34m'Rock_Type'\u001b[0m\u001b[1;33m]\u001b[0m\u001b[1;33m.\u001b[0m\u001b[0mstr\u001b[0m\u001b[1;33m.\u001b[0m\u001b[0mlower\u001b[0m\u001b[1;33m(\u001b[0m\u001b[1;33m)\u001b[0m\u001b[1;33m.\u001b[0m\u001b[0mstr\u001b[0m\u001b[1;33m.\u001b[0m\u001b[0mstrip\u001b[0m\u001b[1;33m(\u001b[0m\u001b[1;33m)\u001b[0m\u001b[1;33m.\u001b[0m\u001b[0mstr\u001b[0m\u001b[1;33m.\u001b[0m\u001b[0mreplace\u001b[0m\u001b[1;33m(\u001b[0m\u001b[1;34m'\\n\\n'\u001b[0m\u001b[1;33m,\u001b[0m\u001b[1;34m' '\u001b[0m\u001b[1;33m)\u001b[0m\u001b[1;33m.\u001b[0m\u001b[0mstr\u001b[0m\u001b[1;33m.\u001b[0m\u001b[0mreplace\u001b[0m\u001b[1;33m(\u001b[0m\u001b[1;34m'meta-'\u001b[0m\u001b[1;33m,\u001b[0m\u001b[1;34m'meta'\u001b[0m\u001b[1;33m)\u001b[0m\u001b[1;33m.\u001b[0m\u001b[0mstr\u001b[0m\u001b[1;33m.\u001b[0m\u001b[0mreplace\u001b[0m\u001b[1;33m(\u001b[0m\u001b[1;34m'-'\u001b[0m\u001b[1;33m,\u001b[0m\u001b[1;34m' '\u001b[0m\u001b[1;33m)\u001b[0m\u001b[1;33m.\u001b[0m\u001b[0mstr\u001b[0m\u001b[1;33m.\u001b[0m\u001b[0mreplace\u001b[0m\u001b[1;33m(\u001b[0m\u001b[1;34m'?'\u001b[0m\u001b[1;33m,\u001b[0m\u001b[1;34m''\u001b[0m\u001b[1;33m)\u001b[0m\u001b[1;33m.\u001b[0m\u001b[0mstr\u001b[0m\u001b[1;33m.\u001b[0m\u001b[0mreplace\u001b[0m\u001b[1;33m(\u001b[0m\u001b[1;34m'('\u001b[0m\u001b[1;33m,\u001b[0m\u001b[1;34m''\u001b[0m\u001b[1;33m)\u001b[0m\u001b[1;33m.\u001b[0m\u001b[0mstr\u001b[0m\u001b[1;33m.\u001b[0m\u001b[0mreplace\u001b[0m\u001b[1;33m(\u001b[0m\u001b[1;34m')'\u001b[0m\u001b[1;33m,\u001b[0m\u001b[1;34m''\u001b[0m\u001b[1;33m)\u001b[0m\u001b[1;33m.\u001b[0m\u001b[0mstr\u001b[0m\u001b[1;33m.\u001b[0m\u001b[0mreplace\u001b[0m\u001b[1;33m(\u001b[0m\u001b[1;34m'/'\u001b[0m\u001b[1;33m,\u001b[0m\u001b[1;34m' '\u001b[0m\u001b[1;33m)\u001b[0m\u001b[1;33m.\u001b[0m\u001b[0mstr\u001b[0m\u001b[1;33m.\u001b[0m\u001b[0mreplace\u001b[0m\u001b[1;33m(\u001b[0m\u001b[1;34m','\u001b[0m\u001b[1;33m,\u001b[0m\u001b[1;34m''\u001b[0m\u001b[1;33m)\u001b[0m\u001b[1;33m.\u001b[0m\u001b[0mstr\u001b[0m\u001b[1;33m.\u001b[0m\u001b[0mreplace\u001b[0m\u001b[1;33m(\u001b[0m\u001b[1;34m'rock'\u001b[0m\u001b[1;33m,\u001b[0m\u001b[1;34m''\u001b[0m\u001b[1;33m)\u001b[0m\u001b[1;33m.\u001b[0m\u001b[0mstr\u001b[0m\u001b[1;33m.\u001b[0m\u001b[0msplit\u001b[0m\u001b[1;33m(\u001b[0m\u001b[1;33m)\u001b[0m\u001b[1;33m\u001b[0m\u001b[1;33m\u001b[0m\u001b[0m\n\u001b[0m",
      "\u001b[1;32mC:\\Users\\dutchr01\\AppData\\Local\\Continuum\\anaconda3\\envs\\tesseractOCR\\lib\\site-packages\\pandas\\core\\generic.py\u001b[0m in \u001b[0;36m__getattr__\u001b[1;34m(self, name)\u001b[0m\n\u001b[0;32m   5173\u001b[0m             \u001b[1;32mor\u001b[0m \u001b[0mname\u001b[0m \u001b[1;32min\u001b[0m \u001b[0mself\u001b[0m\u001b[1;33m.\u001b[0m\u001b[0m_accessors\u001b[0m\u001b[1;33m\u001b[0m\u001b[1;33m\u001b[0m\u001b[0m\n\u001b[0;32m   5174\u001b[0m         ):\n\u001b[1;32m-> 5175\u001b[1;33m             \u001b[1;32mreturn\u001b[0m \u001b[0mobject\u001b[0m\u001b[1;33m.\u001b[0m\u001b[0m__getattribute__\u001b[0m\u001b[1;33m(\u001b[0m\u001b[0mself\u001b[0m\u001b[1;33m,\u001b[0m \u001b[0mname\u001b[0m\u001b[1;33m)\u001b[0m\u001b[1;33m\u001b[0m\u001b[1;33m\u001b[0m\u001b[0m\n\u001b[0m\u001b[0;32m   5176\u001b[0m         \u001b[1;32melse\u001b[0m\u001b[1;33m:\u001b[0m\u001b[1;33m\u001b[0m\u001b[1;33m\u001b[0m\u001b[0m\n\u001b[0;32m   5177\u001b[0m             \u001b[1;32mif\u001b[0m \u001b[0mself\u001b[0m\u001b[1;33m.\u001b[0m\u001b[0m_info_axis\u001b[0m\u001b[1;33m.\u001b[0m\u001b[0m_can_hold_identifiers_and_holds_name\u001b[0m\u001b[1;33m(\u001b[0m\u001b[0mname\u001b[0m\u001b[1;33m)\u001b[0m\u001b[1;33m:\u001b[0m\u001b[1;33m\u001b[0m\u001b[1;33m\u001b[0m\u001b[0m\n",
      "\u001b[1;32mC:\\Users\\dutchr01\\AppData\\Local\\Continuum\\anaconda3\\envs\\tesseractOCR\\lib\\site-packages\\pandas\\core\\accessor.py\u001b[0m in \u001b[0;36m__get__\u001b[1;34m(self, obj, cls)\u001b[0m\n\u001b[0;32m    173\u001b[0m             \u001b[1;31m# we're accessing the attribute of the class, i.e., Dataset.geo\u001b[0m\u001b[1;33m\u001b[0m\u001b[1;33m\u001b[0m\u001b[1;33m\u001b[0m\u001b[0m\n\u001b[0;32m    174\u001b[0m             \u001b[1;32mreturn\u001b[0m \u001b[0mself\u001b[0m\u001b[1;33m.\u001b[0m\u001b[0m_accessor\u001b[0m\u001b[1;33m\u001b[0m\u001b[1;33m\u001b[0m\u001b[0m\n\u001b[1;32m--> 175\u001b[1;33m         \u001b[0maccessor_obj\u001b[0m \u001b[1;33m=\u001b[0m \u001b[0mself\u001b[0m\u001b[1;33m.\u001b[0m\u001b[0m_accessor\u001b[0m\u001b[1;33m(\u001b[0m\u001b[0mobj\u001b[0m\u001b[1;33m)\u001b[0m\u001b[1;33m\u001b[0m\u001b[1;33m\u001b[0m\u001b[0m\n\u001b[0m\u001b[0;32m    176\u001b[0m         \u001b[1;31m# Replace the property with the accessor object. Inspired by:\u001b[0m\u001b[1;33m\u001b[0m\u001b[1;33m\u001b[0m\u001b[1;33m\u001b[0m\u001b[0m\n\u001b[0;32m    177\u001b[0m         \u001b[1;31m# http://www.pydanny.com/cached-property.html\u001b[0m\u001b[1;33m\u001b[0m\u001b[1;33m\u001b[0m\u001b[1;33m\u001b[0m\u001b[0m\n",
      "\u001b[1;32mC:\\Users\\dutchr01\\AppData\\Local\\Continuum\\anaconda3\\envs\\tesseractOCR\\lib\\site-packages\\pandas\\core\\strings.py\u001b[0m in \u001b[0;36m__init__\u001b[1;34m(self, data)\u001b[0m\n\u001b[0;32m   1915\u001b[0m \u001b[1;33m\u001b[0m\u001b[0m\n\u001b[0;32m   1916\u001b[0m     \u001b[1;32mdef\u001b[0m \u001b[0m__init__\u001b[0m\u001b[1;33m(\u001b[0m\u001b[0mself\u001b[0m\u001b[1;33m,\u001b[0m \u001b[0mdata\u001b[0m\u001b[1;33m)\u001b[0m\u001b[1;33m:\u001b[0m\u001b[1;33m\u001b[0m\u001b[1;33m\u001b[0m\u001b[0m\n\u001b[1;32m-> 1917\u001b[1;33m         \u001b[0mself\u001b[0m\u001b[1;33m.\u001b[0m\u001b[0m_inferred_dtype\u001b[0m \u001b[1;33m=\u001b[0m \u001b[0mself\u001b[0m\u001b[1;33m.\u001b[0m\u001b[0m_validate\u001b[0m\u001b[1;33m(\u001b[0m\u001b[0mdata\u001b[0m\u001b[1;33m)\u001b[0m\u001b[1;33m\u001b[0m\u001b[1;33m\u001b[0m\u001b[0m\n\u001b[0m\u001b[0;32m   1918\u001b[0m         \u001b[0mself\u001b[0m\u001b[1;33m.\u001b[0m\u001b[0m_is_categorical\u001b[0m \u001b[1;33m=\u001b[0m \u001b[0mis_categorical_dtype\u001b[0m\u001b[1;33m(\u001b[0m\u001b[0mdata\u001b[0m\u001b[1;33m)\u001b[0m\u001b[1;33m\u001b[0m\u001b[1;33m\u001b[0m\u001b[0m\n\u001b[0;32m   1919\u001b[0m \u001b[1;33m\u001b[0m\u001b[0m\n",
      "\u001b[1;32mC:\\Users\\dutchr01\\AppData\\Local\\Continuum\\anaconda3\\envs\\tesseractOCR\\lib\\site-packages\\pandas\\core\\strings.py\u001b[0m in \u001b[0;36m_validate\u001b[1;34m(data)\u001b[0m\n\u001b[0;32m   1965\u001b[0m \u001b[1;33m\u001b[0m\u001b[0m\n\u001b[0;32m   1966\u001b[0m         \u001b[1;32mif\u001b[0m \u001b[0minferred_dtype\u001b[0m \u001b[1;32mnot\u001b[0m \u001b[1;32min\u001b[0m \u001b[0mallowed_types\u001b[0m\u001b[1;33m:\u001b[0m\u001b[1;33m\u001b[0m\u001b[1;33m\u001b[0m\u001b[0m\n\u001b[1;32m-> 1967\u001b[1;33m             \u001b[1;32mraise\u001b[0m \u001b[0mAttributeError\u001b[0m\u001b[1;33m(\u001b[0m\u001b[1;34m\"Can only use .str accessor with string \"\u001b[0m \u001b[1;34m\"values!\"\u001b[0m\u001b[1;33m)\u001b[0m\u001b[1;33m\u001b[0m\u001b[1;33m\u001b[0m\u001b[0m\n\u001b[0m\u001b[0;32m   1968\u001b[0m         \u001b[1;32mreturn\u001b[0m \u001b[0minferred_dtype\u001b[0m\u001b[1;33m\u001b[0m\u001b[1;33m\u001b[0m\u001b[0m\n\u001b[0;32m   1969\u001b[0m \u001b[1;33m\u001b[0m\u001b[0m\n",
      "\u001b[1;31mAttributeError\u001b[0m: Can only use .str accessor with string values!"
     ]
    }
   ],
   "source": [
    "df['Rock_Type'] = df['Rock_Type'].str.lower().str.strip().str.replace('\\n\\n',' ').str.replace('meta-','meta').str.replace('-',' ').str.replace('?','').str.replace('(','').str.replace(')','').str.replace('/',' ').str.replace(',','').str.replace('rock','').str.split()"
   ]
  },
  {
   "cell_type": "code",
   "execution_count": 17,
   "metadata": {},
   "outputs": [],
   "source": [
    "def fetchlithcode(x):\n",
    "    codes = []\n",
    "    for word in x:\n",
    "        for k,v in lith_dict.items():\n",
    "            match = re.search(f'(\\\\b({word})\\\\b)',v)\n",
    "            if match:\n",
    "                codes.append(k)\n",
    "                #print(k)\n",
    "                #print(v)\n",
    "    return codes\n",
    "\n",
    "def fetchlithvalue(x):\n",
    "    values = []\n",
    "    for word in x:\n",
    "        for k,v in lith_dict.items():\n",
    "            match = re.search(f'(\\\\b({word})\\\\b)',v)\n",
    "            if match:\n",
    "                values.append(v)\n",
    "    return values                \n",
    "    \n",
    "def lith_pos_tagger(x):\n",
    "    tagged = []\n",
    "    NN = []\n",
    "    for word in x:\n",
    "        tagged.append(nltk.pos_tag(word))\n",
    "        for l in tagged:\n",
    "            rock = []\n",
    "            for w,pos in l:\n",
    "                if pos == 'NN':\n",
    "                    rock.append(w)\n",
    "        NN.append(rock)\n",
    "    return NN\n",
    "\n"
   ]
  },
  {
   "cell_type": "code",
   "execution_count": 18,
   "metadata": {},
   "outputs": [],
   "source": [
    "tokens = list(df['Rock_Type'])\n",
    "tagged = []\n",
    "NN = []\n",
    "for word in tokens:\n",
    "    tagged.append(nltk.pos_tag(word))\n",
    "for l in tagged:\n",
    "    rock = []\n",
    "    for w,pos in l:\n",
    "        if pos == 'NN':\n",
    "            rock.append(w)\n",
    "    NN.append(rock)"
   ]
  },
  {
   "cell_type": "code",
   "execution_count": 19,
   "metadata": {},
   "outputs": [],
   "source": [
    "df['Pos_NN_Rock_Type'] = NN"
   ]
  },
  {
   "cell_type": "code",
   "execution_count": 20,
   "metadata": {},
   "outputs": [],
   "source": [
    "df['pos_tags'] = tagged"
   ]
  },
  {
   "cell_type": "code",
   "execution_count": 21,
   "metadata": {},
   "outputs": [],
   "source": [
    "#df['Pos_NN_Rock_Type'] = df['Rock_Type'].apply(lith_pos_tagger)\n",
    "df['poss_min_codes'] = df['Pos_NN_Rock_Type'].apply(fetchlithcode)\n",
    "df['GSSA_lith_desc'] = df['Pos_NN_Rock_Type'].apply(fetchlithvalue)\n"
   ]
  },
  {
   "cell_type": "code",
   "execution_count": 22,
   "metadata": {},
   "outputs": [
    {
     "data": {
      "text/plain": "['ALBC',\n 'ALBL',\n 'ALBS',\n 'ALKC',\n 'ALKI',\n 'ALKL',\n 'ALKM',\n 'ALKS',\n 'ALKU',\n 'ANHY',\n 'BARI',\n 'CABC',\n 'CABL',\n 'CABS',\n 'CASI',\n 'CBRK',\n 'DLOM',\n 'EVAP',\n 'GOID',\n 'GPSM',\n 'HALT',\n 'VOCL',\n 'MDIG',\n 'MDYN',\n 'META',\n 'METL',\n 'MFEX',\n 'MFIG',\n 'MFIN',\n 'MGNM',\n 'MGNR',\n 'MGNS',\n 'MGNU',\n 'MGTM',\n 'MGTU',\n 'MICC',\n 'MICL',\n 'MICM',\n 'MICS',\n 'MICU',\n 'MIEX',\n 'MIFR',\n 'MIGN',\n 'MIIG',\n 'MIIN',\n 'MINO',\n 'MMEX',\n 'MMIG',\n 'MMIN',\n 'MNOR',\n 'MNOS',\n 'MNOU',\n 'MRMI',\n 'MTHH',\n 'MUEX',\n 'MUIG',\n 'MUIN',\n 'MVCL',\n 'NMET',\n 'PIEM',\n 'PIEU',\n 'PIRK',\n 'PYRM',\n 'PYRU',\n 'QBAM',\n 'QBAU',\n 'QGHM',\n 'QGHU',\n 'QGTM',\n 'QGTU',\n 'QHMM',\n 'QHMU',\n 'QMTM',\n 'QMTU',\n 'QZRM',\n 'QZRU',\n 'SEDM',\n 'SULM',\n 'SULU',\n 'MSCB',\n 'MSED',\n 'MSSI']"
     },
     "execution_count": 22,
     "metadata": {},
     "output_type": "execute_result"
    }
   ],
   "source": [
    "df['poss_min_codes'][23]"
   ]
  },
  {
   "cell_type": "code",
   "execution_count": 23,
   "metadata": {},
   "outputs": [
    {
     "data": {
      "text/html": "<div>\n<style scoped>\n    .dataframe tbody tr th:only-of-type {\n        vertical-align: middle;\n    }\n\n    .dataframe tbody tr th {\n        vertical-align: top;\n    }\n\n    .dataframe thead th {\n        text-align: right;\n    }\n</style>\n<table border=\"1\" class=\"dataframe\">\n  <thead>\n    <tr style=\"text-align: right;\">\n      <th></th>\n      <th>Sample_No</th>\n      <th>Rock_Type</th>\n      <th>Pos_NN_Rock_Type</th>\n      <th>pos_tags</th>\n      <th>poss_min_codes</th>\n      <th>GSSA_lith_desc</th>\n    </tr>\n  </thead>\n  <tbody>\n    <tr>\n      <th>0</th>\n      <td>1039227</td>\n      <td>[biotite, monzogranite]</td>\n      <td>[biotite, monzogranite]</td>\n      <td>[(biotite, NN), (monzogranite, NN)]</td>\n      <td>[MZGR]</td>\n      <td>[monzogranite]</td>\n    </tr>\n    <tr>\n      <th>1</th>\n      <td>1039229</td>\n      <td>[foliated, metabiotite, tonalite]</td>\n      <td>[tonalite]</td>\n      <td>[(foliated, VBN), (metabiotite, JJ), (tonalite...</td>\n      <td>[TONL]</td>\n      <td>[tonalite]</td>\n    </tr>\n    <tr>\n      <th>2</th>\n      <td>1039230</td>\n      <td>[porphyritic, biotite, monzogranite]</td>\n      <td>[biotite, monzogranite]</td>\n      <td>[(porphyritic, JJ), (biotite, NN), (monzograni...</td>\n      <td>[MZGR]</td>\n      <td>[monzogranite]</td>\n    </tr>\n    <tr>\n      <th>3</th>\n      <td>1039232</td>\n      <td>[flow, lineated, aplitic, leuco, biotite, syen...</td>\n      <td>[flow, leuco, biotite, syenogranite]</td>\n      <td>[(flow, NN), (lineated, VBD), (aplitic, JJ), (...</td>\n      <td>[SYGN]</td>\n      <td>[syenogranite]</td>\n    </tr>\n    <tr>\n      <th>4</th>\n      <td>1039233</td>\n      <td>[banded, hornblende, biotite, gneiss, foliated...</td>\n      <td>[hornblende, biotite, gneiss, leuco, granitoid]</td>\n      <td>[(banded, VBN), (hornblende, NN), (biotite, NN...</td>\n      <td>[AUGN, GNSS, GOID, QGTD]</td>\n      <td>[augen gneiss, gneiss, granitoid rock, quartz ...</td>\n    </tr>\n    <tr>\n      <th>5</th>\n      <td>1039237</td>\n      <td>[biotite, syenogranite]</td>\n      <td>[biotite, syenogranite]</td>\n      <td>[(biotite, NN), (syenogranite, NN)]</td>\n      <td>[SYGN]</td>\n      <td>[syenogranite]</td>\n    </tr>\n    <tr>\n      <th>6</th>\n      <td>1039239</td>\n      <td>[megacrystic, xenocrystic, biotite, tonalite]</td>\n      <td>[biotite, tonalite]</td>\n      <td>[(megacrystic, JJ), (xenocrystic, JJ), (biotit...</td>\n      <td>[TONL]</td>\n      <td>[tonalite]</td>\n    </tr>\n    <tr>\n      <th>7</th>\n      <td>1039244</td>\n      <td>[biotite, syenogranite]</td>\n      <td>[biotite, syenogranite]</td>\n      <td>[(biotite, NN), (syenogranite, NN)]</td>\n      <td>[SYGN]</td>\n      <td>[syenogranite]</td>\n    </tr>\n    <tr>\n      <th>8</th>\n      <td>1039252</td>\n      <td>[biotite, monzogranite]</td>\n      <td>[biotite, monzogranite]</td>\n      <td>[(biotite, NN), (monzogranite, NN)]</td>\n      <td>[MZGR]</td>\n      <td>[monzogranite]</td>\n    </tr>\n    <tr>\n      <th>9</th>\n      <td>1039254</td>\n      <td>[biotite, syenogranite]</td>\n      <td>[biotite, syenogranite]</td>\n      <td>[(biotite, NN), (syenogranite, NN)]</td>\n      <td>[SYGN]</td>\n      <td>[syenogranite]</td>\n    </tr>\n    <tr>\n      <th>10</th>\n      <td>1842253</td>\n      <td>[biotite, monzogranite]</td>\n      <td>[biotite, monzogranite]</td>\n      <td>[(biotite, NN), (monzogranite, NN)]</td>\n      <td>[MZGR]</td>\n      <td>[monzogranite]</td>\n    </tr>\n    <tr>\n      <th>11</th>\n      <td>1842254</td>\n      <td>[weakly, weathered, biotite, micro, syenogranite]</td>\n      <td>[]</td>\n      <td>[(weakly, RB), (weathered, VBD), (biotite, JJ)...</td>\n      <td>[]</td>\n      <td>[]</td>\n    </tr>\n    <tr>\n      <th>12</th>\n      <td>1842255</td>\n      <td>[hornblende, biotite, metaquartz, monzodiorite...</td>\n      <td>[hornblende, biotite, metaquartz, monzodiorite...</td>\n      <td>[(hornblende, NN), (biotite, NN), (metaquartz,...</td>\n      <td>[FBMD, FDMD, MZDI, QZMD, FSPO, PORP, QFPO, QZPO]</td>\n      <td>[foid bearing monzodiorite, foid monzodiorite,...</td>\n    </tr>\n    <tr>\n      <th>13</th>\n      <td>1842256</td>\n      <td>[hornblende, biotite, metaquartz, monzodiorite]</td>\n      <td>[hornblende, biotite, metaquartz, monzodiorite]</td>\n      <td>[(hornblende, NN), (biotite, NN), (metaquartz,...</td>\n      <td>[FBMD, FDMD, MZDI, QZMD]</td>\n      <td>[foid bearing monzodiorite, foid monzodiorite,...</td>\n    </tr>\n    <tr>\n      <th>14</th>\n      <td>1842257</td>\n      <td>[hornblende, biotite, metaquartz, monzodiorite]</td>\n      <td>[hornblende, biotite, metaquartz, monzodiorite]</td>\n      <td>[(hornblende, NN), (biotite, NN), (metaquartz,...</td>\n      <td>[FBMD, FDMD, MZDI, QZMD]</td>\n      <td>[foid bearing monzodiorite, foid monzodiorite,...</td>\n    </tr>\n    <tr>\n      <th>15</th>\n      <td>1842258</td>\n      <td>[weakly, foliated, hornblende, biotite, metaqu...</td>\n      <td>[hornblende, biotite, metaquartz, monzodiorite]</td>\n      <td>[(weakly, RB), (foliated, VBN), (hornblende, N...</td>\n      <td>[FBMD, FDMD, MZDI, QZMD]</td>\n      <td>[foid bearing monzodiorite, foid monzodiorite,...</td>\n    </tr>\n    <tr>\n      <th>16</th>\n      <td>1842259</td>\n      <td>[weakly, weathered, weakly, foliated, hornblen...</td>\n      <td>[hornblende, metaquartz, monzodiorite]</td>\n      <td>[(weakly, RB), (weathered, VBD), (weakly, RB),...</td>\n      <td>[FBMD, FDMD, MZDI, QZMD]</td>\n      <td>[foid bearing monzodiorite, foid monzodiorite,...</td>\n    </tr>\n    <tr>\n      <th>17</th>\n      <td>1842260</td>\n      <td>[weakly, weathered, biotite, hornblende, metam...</td>\n      <td>[hornblende, metamicro, syenogranite]</td>\n      <td>[(weakly, RB), (weathered, VBD), (biotite, JJ)...</td>\n      <td>[SYGN]</td>\n      <td>[syenogranite]</td>\n    </tr>\n    <tr>\n      <th>18</th>\n      <td>1842261</td>\n      <td>[weakly, foliated, biotite, hornblende, metasy...</td>\n      <td>[hornblende, metasyenogranite]</td>\n      <td>[(weakly, RB), (foliated, VBN), (biotite, JJ),...</td>\n      <td>[]</td>\n      <td>[]</td>\n    </tr>\n    <tr>\n      <th>19</th>\n      <td>1842262</td>\n      <td>[foliated, biotite, hornblende, metamonzogranite]</td>\n      <td>[hornblende, metamonzogranite]</td>\n      <td>[(foliated, VBN), (biotite, JJ), (hornblende, ...</td>\n      <td>[]</td>\n      <td>[]</td>\n    </tr>\n    <tr>\n      <th>20</th>\n      <td>1842263</td>\n      <td>[weakly, weathered, biotite, micro, monzogranite]</td>\n      <td>[]</td>\n      <td>[(weakly, RB), (weathered, VBD), (biotite, JJ)...</td>\n      <td>[]</td>\n      <td>[]</td>\n    </tr>\n    <tr>\n      <th>21</th>\n      <td>1842264</td>\n      <td>[weakly, weathered, folded, foliated, biotite,...</td>\n      <td>[garnet, gneiss, meta, quartzo, sediment]</td>\n      <td>[(weakly, RB), (weathered, VBN), (folded, VBN)...</td>\n      <td>[QGTM, QGTU, AUGN, GNSS, ALBS, ALKS, CABS, CAS...</td>\n      <td>[quartz garnet rock (metasomatic), quartz garn...</td>\n    </tr>\n    <tr>\n      <th>22</th>\n      <td>1842265</td>\n      <td>[weakly, sericite, zoisite, retrogressed, band...</td>\n      <td>[zoisite, diopside, quartzo, gneiss, sediment]</td>\n      <td>[(weakly, RB), (sericite, JJ), (zoisite, NN), ...</td>\n      <td>[AUGN, GNSS, ALBS, ALKS, CABS, CASD, CBSD, FES...</td>\n      <td>[augen gneiss, gneiss, albite altered rock (se...</td>\n    </tr>\n    <tr>\n      <th>23</th>\n      <td>1842266</td>\n      <td>[weakly, sericite, biotite, retrogressed, foli...</td>\n      <td>[biotite, rock, metasediment]</td>\n      <td>[(weakly, RB), (sericite, JJ), (biotite, NN), ...</td>\n      <td>[ALBC, ALBL, ALBS, ALKC, ALKI, ALKL, ALKM, ALK...</td>\n      <td>[albite altered rock (chemical sed precursor),...</td>\n    </tr>\n    <tr>\n      <th>24</th>\n      <td>1842267</td>\n      <td>[weakly, foliated, biotite, quartzo, feldspath...</td>\n      <td>[rock, metamicro, granitoid]</td>\n      <td>[(weakly, RB), (foliated, VBN), (biotite, JJ),...</td>\n      <td>[ALBC, ALBL, ALBS, ALKC, ALKI, ALKL, ALKM, ALK...</td>\n      <td>[albite altered rock (chemical sed precursor),...</td>\n    </tr>\n    <tr>\n      <th>25</th>\n      <td>1842268</td>\n      <td>[biotite, quartzo, feldspathic, rock, metamicr...</td>\n      <td>[quartzo, rock, metamicro, leuco, granitoid]</td>\n      <td>[(biotite, JJ), (quartzo, NN), (feldspathic, J...</td>\n      <td>[ALBC, ALBL, ALBS, ALKC, ALKI, ALKL, ALKM, ALK...</td>\n      <td>[albite altered rock (chemical sed precursor),...</td>\n    </tr>\n    <tr>\n      <th>26</th>\n      <td>1842269</td>\n      <td>[foliated, banded, hornblende, biotite, diopsi...</td>\n      <td>[diopside, quartzo, meta, sediment]</td>\n      <td>[(foliated, VBN), (banded, VBD), (hornblende, ...</td>\n      <td>[ALBS, ALKS, CABS, CASD, CBSD, FESD, MICS, MIX...</td>\n      <td>[albite altered rock (sediment precursor), alk...</td>\n    </tr>\n    <tr>\n      <th>27</th>\n      <td>1842270</td>\n      <td>[weakly, weathered, sericite, zoisite, prehnit...</td>\n      <td>[prehnite, garnet, pyroxene, quartz, rock, cal...</td>\n      <td>[(weakly, RB), (weathered, VBD), (sericite, JJ...</td>\n      <td>[QGTM, QGTU, QBAM, QBAU, QFPO, QGHM, QGHU, QGT...</td>\n      <td>[quartz garnet rock (metasomatic), quartz garn...</td>\n    </tr>\n    <tr>\n      <th>28</th>\n      <td>1842271</td>\n      <td>[weakly, weathered, biotite, micro, leuco, gra...</td>\n      <td>[micro, leuco, granitoid, aplite]</td>\n      <td>[(weakly, RB), (weathered, VBD), (biotite, JJ)...</td>\n      <td>[GOID, QGTD, APLT]</td>\n      <td>[granitoid rock, quartz rich granitoid, aplite]</td>\n    </tr>\n    <tr>\n      <th>29</th>\n      <td>1842272</td>\n      <td>[biotite, monzogranite]</td>\n      <td>[biotite, monzogranite]</td>\n      <td>[(biotite, NN), (monzogranite, NN)]</td>\n      <td>[MZGR]</td>\n      <td>[monzogranite]</td>\n    </tr>\n    <tr>\n      <th>30</th>\n      <td>1842273</td>\n      <td>[weakly, chlorite, sericite, retrogressed, wea...</td>\n      <td>[leuco, granitoid]</td>\n      <td>[(weakly, RB), (chlorite, JJ), (sericite, NNS)...</td>\n      <td>[GOID, QGTD]</td>\n      <td>[granitoid rock, quartz rich granitoid]</td>\n    </tr>\n    <tr>\n      <th>31</th>\n      <td>1834087</td>\n      <td>[biotite, monzogranite]</td>\n      <td>[biotite, monzogranite]</td>\n      <td>[(biotite, NN), (monzogranite, NN)]</td>\n      <td>[MZGR]</td>\n      <td>[monzogranite]</td>\n    </tr>\n    <tr>\n      <th>32</th>\n      <td>1834090</td>\n      <td>[foliated, biotite, micro, granodiorite, porph...</td>\n      <td>[porphyry]</td>\n      <td>[(foliated, VBN), (biotite, JJ), (micro, NNS),...</td>\n      <td>[FSPO, PORP, QFPO, QZPO]</td>\n      <td>[feldspar porphyry, porphyry, quartz feldspar ...</td>\n    </tr>\n    <tr>\n      <th>33</th>\n      <td>1834091</td>\n      <td>[inequigranular, biotite, syenogranite]</td>\n      <td>[biotite, syenogranite]</td>\n      <td>[(inequigranular, JJ), (biotite, NN), (syenogr...</td>\n      <td>[SYGN]</td>\n      <td>[syenogranite]</td>\n    </tr>\n    <tr>\n      <th>34</th>\n      <td>1834092</td>\n      <td>[biotite, micro, granodiorite, porphyry]</td>\n      <td>[micro, granodiorite, porphyry]</td>\n      <td>[(biotite, JJ), (micro, NN), (granodiorite, NN...</td>\n      <td>[GRDI, FSPO, PORP, QFPO, QZPO]</td>\n      <td>[granodiorite, feldspar porphyry, porphyry, qu...</td>\n    </tr>\n    <tr>\n      <th>35</th>\n      <td>1834093</td>\n      <td>[biotite, monzogranite]</td>\n      <td>[biotite, monzogranite]</td>\n      <td>[(biotite, NN), (monzogranite, NN)]</td>\n      <td>[MZGR]</td>\n      <td>[monzogranite]</td>\n    </tr>\n    <tr>\n      <th>36</th>\n      <td>1834098</td>\n      <td>[foliated, biotite, metaleuco, syenogranite]</td>\n      <td>[]</td>\n      <td>[(foliated, VBN), (biotite, JJ), (metaleuco, N...</td>\n      <td>[]</td>\n      <td>[]</td>\n    </tr>\n    <tr>\n      <th>37</th>\n      <td>1834099</td>\n      <td>[weakly, oxidised, foliated, metaleuco, alkali...</td>\n      <td>[feldspar, granite]</td>\n      <td>[(weakly, RB), (oxidised, VBN), (foliated, VBN...</td>\n      <td>[AFCH, AFGN, AFRH, AFSY, AFTR, ALKM, ALKU, FBA...</td>\n      <td>[alkali feldspar charnockite, alkali feldspar ...</td>\n    </tr>\n    <tr>\n      <th>38</th>\n      <td>1834103</td>\n      <td>[biotite, hornblende, monzogranite]</td>\n      <td>[hornblende, monzogranite]</td>\n      <td>[(biotite, JJ), (hornblende, NN), (monzogranit...</td>\n      <td>[MZGR]</td>\n      <td>[monzogranite]</td>\n    </tr>\n    <tr>\n      <th>39</th>\n      <td>1834104</td>\n      <td>[biotite, micro, quartz, monzonite, porphyry]</td>\n      <td>[micro, quartz, monzonite, porphyry]</td>\n      <td>[(biotite, JJ), (micro, NN), (quartz, NN), (mo...</td>\n      <td>[QBAM, QBAU, QFPO, QGHM, QGHU, QGTD, QGTM, QGT...</td>\n      <td>[quartz barite rock (metasomatic), quartz bari...</td>\n    </tr>\n  </tbody>\n</table>\n</div>",
      "text/plain": "    Sample_No                                          Rock_Type  \\\n0     1039227                            [biotite, monzogranite]   \n1     1039229                  [foliated, metabiotite, tonalite]   \n2     1039230               [porphyritic, biotite, monzogranite]   \n3     1039232  [flow, lineated, aplitic, leuco, biotite, syen...   \n4     1039233  [banded, hornblende, biotite, gneiss, foliated...   \n5     1039237                            [biotite, syenogranite]   \n6     1039239      [megacrystic, xenocrystic, biotite, tonalite]   \n7     1039244                            [biotite, syenogranite]   \n8     1039252                            [biotite, monzogranite]   \n9     1039254                            [biotite, syenogranite]   \n10    1842253                            [biotite, monzogranite]   \n11    1842254  [weakly, weathered, biotite, micro, syenogranite]   \n12    1842255  [hornblende, biotite, metaquartz, monzodiorite...   \n13    1842256    [hornblende, biotite, metaquartz, monzodiorite]   \n14    1842257    [hornblende, biotite, metaquartz, monzodiorite]   \n15    1842258  [weakly, foliated, hornblende, biotite, metaqu...   \n16    1842259  [weakly, weathered, weakly, foliated, hornblen...   \n17    1842260  [weakly, weathered, biotite, hornblende, metam...   \n18    1842261  [weakly, foliated, biotite, hornblende, metasy...   \n19    1842262  [foliated, biotite, hornblende, metamonzogranite]   \n20    1842263  [weakly, weathered, biotite, micro, monzogranite]   \n21    1842264  [weakly, weathered, folded, foliated, biotite,...   \n22    1842265  [weakly, sericite, zoisite, retrogressed, band...   \n23    1842266  [weakly, sericite, biotite, retrogressed, foli...   \n24    1842267  [weakly, foliated, biotite, quartzo, feldspath...   \n25    1842268  [biotite, quartzo, feldspathic, rock, metamicr...   \n26    1842269  [foliated, banded, hornblende, biotite, diopsi...   \n27    1842270  [weakly, weathered, sericite, zoisite, prehnit...   \n28    1842271  [weakly, weathered, biotite, micro, leuco, gra...   \n29    1842272                            [biotite, monzogranite]   \n30    1842273  [weakly, chlorite, sericite, retrogressed, wea...   \n31    1834087                            [biotite, monzogranite]   \n32    1834090  [foliated, biotite, micro, granodiorite, porph...   \n33    1834091            [inequigranular, biotite, syenogranite]   \n34    1834092           [biotite, micro, granodiorite, porphyry]   \n35    1834093                            [biotite, monzogranite]   \n36    1834098       [foliated, biotite, metaleuco, syenogranite]   \n37    1834099  [weakly, oxidised, foliated, metaleuco, alkali...   \n38    1834103                [biotite, hornblende, monzogranite]   \n39    1834104      [biotite, micro, quartz, monzonite, porphyry]   \n\n                                     Pos_NN_Rock_Type  \\\n0                             [biotite, monzogranite]   \n1                                          [tonalite]   \n2                             [biotite, monzogranite]   \n3                [flow, leuco, biotite, syenogranite]   \n4     [hornblende, biotite, gneiss, leuco, granitoid]   \n5                             [biotite, syenogranite]   \n6                                 [biotite, tonalite]   \n7                             [biotite, syenogranite]   \n8                             [biotite, monzogranite]   \n9                             [biotite, syenogranite]   \n10                            [biotite, monzogranite]   \n11                                                 []   \n12  [hornblende, biotite, metaquartz, monzodiorite...   \n13    [hornblende, biotite, metaquartz, monzodiorite]   \n14    [hornblende, biotite, metaquartz, monzodiorite]   \n15    [hornblende, biotite, metaquartz, monzodiorite]   \n16             [hornblende, metaquartz, monzodiorite]   \n17              [hornblende, metamicro, syenogranite]   \n18                     [hornblende, metasyenogranite]   \n19                     [hornblende, metamonzogranite]   \n20                                                 []   \n21          [garnet, gneiss, meta, quartzo, sediment]   \n22     [zoisite, diopside, quartzo, gneiss, sediment]   \n23                      [biotite, rock, metasediment]   \n24                       [rock, metamicro, granitoid]   \n25       [quartzo, rock, metamicro, leuco, granitoid]   \n26                [diopside, quartzo, meta, sediment]   \n27  [prehnite, garnet, pyroxene, quartz, rock, cal...   \n28                  [micro, leuco, granitoid, aplite]   \n29                            [biotite, monzogranite]   \n30                                 [leuco, granitoid]   \n31                            [biotite, monzogranite]   \n32                                         [porphyry]   \n33                            [biotite, syenogranite]   \n34                    [micro, granodiorite, porphyry]   \n35                            [biotite, monzogranite]   \n36                                                 []   \n37                                [feldspar, granite]   \n38                         [hornblende, monzogranite]   \n39               [micro, quartz, monzonite, porphyry]   \n\n                                             pos_tags  \\\n0                 [(biotite, NN), (monzogranite, NN)]   \n1   [(foliated, VBN), (metabiotite, JJ), (tonalite...   \n2   [(porphyritic, JJ), (biotite, NN), (monzograni...   \n3   [(flow, NN), (lineated, VBD), (aplitic, JJ), (...   \n4   [(banded, VBN), (hornblende, NN), (biotite, NN...   \n5                 [(biotite, NN), (syenogranite, NN)]   \n6   [(megacrystic, JJ), (xenocrystic, JJ), (biotit...   \n7                 [(biotite, NN), (syenogranite, NN)]   \n8                 [(biotite, NN), (monzogranite, NN)]   \n9                 [(biotite, NN), (syenogranite, NN)]   \n10                [(biotite, NN), (monzogranite, NN)]   \n11  [(weakly, RB), (weathered, VBD), (biotite, JJ)...   \n12  [(hornblende, NN), (biotite, NN), (metaquartz,...   \n13  [(hornblende, NN), (biotite, NN), (metaquartz,...   \n14  [(hornblende, NN), (biotite, NN), (metaquartz,...   \n15  [(weakly, RB), (foliated, VBN), (hornblende, N...   \n16  [(weakly, RB), (weathered, VBD), (weakly, RB),...   \n17  [(weakly, RB), (weathered, VBD), (biotite, JJ)...   \n18  [(weakly, RB), (foliated, VBN), (biotite, JJ),...   \n19  [(foliated, VBN), (biotite, JJ), (hornblende, ...   \n20  [(weakly, RB), (weathered, VBD), (biotite, JJ)...   \n21  [(weakly, RB), (weathered, VBN), (folded, VBN)...   \n22  [(weakly, RB), (sericite, JJ), (zoisite, NN), ...   \n23  [(weakly, RB), (sericite, JJ), (biotite, NN), ...   \n24  [(weakly, RB), (foliated, VBN), (biotite, JJ),...   \n25  [(biotite, JJ), (quartzo, NN), (feldspathic, J...   \n26  [(foliated, VBN), (banded, VBD), (hornblende, ...   \n27  [(weakly, RB), (weathered, VBD), (sericite, JJ...   \n28  [(weakly, RB), (weathered, VBD), (biotite, JJ)...   \n29                [(biotite, NN), (monzogranite, NN)]   \n30  [(weakly, RB), (chlorite, JJ), (sericite, NNS)...   \n31                [(biotite, NN), (monzogranite, NN)]   \n32  [(foliated, VBN), (biotite, JJ), (micro, NNS),...   \n33  [(inequigranular, JJ), (biotite, NN), (syenogr...   \n34  [(biotite, JJ), (micro, NN), (granodiorite, NN...   \n35                [(biotite, NN), (monzogranite, NN)]   \n36  [(foliated, VBN), (biotite, JJ), (metaleuco, N...   \n37  [(weakly, RB), (oxidised, VBN), (foliated, VBN...   \n38  [(biotite, JJ), (hornblende, NN), (monzogranit...   \n39  [(biotite, JJ), (micro, NN), (quartz, NN), (mo...   \n\n                                       poss_min_codes  \\\n0                                              [MZGR]   \n1                                              [TONL]   \n2                                              [MZGR]   \n3                                              [SYGN]   \n4                            [AUGN, GNSS, GOID, QGTD]   \n5                                              [SYGN]   \n6                                              [TONL]   \n7                                              [SYGN]   \n8                                              [MZGR]   \n9                                              [SYGN]   \n10                                             [MZGR]   \n11                                                 []   \n12   [FBMD, FDMD, MZDI, QZMD, FSPO, PORP, QFPO, QZPO]   \n13                           [FBMD, FDMD, MZDI, QZMD]   \n14                           [FBMD, FDMD, MZDI, QZMD]   \n15                           [FBMD, FDMD, MZDI, QZMD]   \n16                           [FBMD, FDMD, MZDI, QZMD]   \n17                                             [SYGN]   \n18                                                 []   \n19                                                 []   \n20                                                 []   \n21  [QGTM, QGTU, AUGN, GNSS, ALBS, ALKS, CABS, CAS...   \n22  [AUGN, GNSS, ALBS, ALKS, CABS, CASD, CBSD, FES...   \n23  [ALBC, ALBL, ALBS, ALKC, ALKI, ALKL, ALKM, ALK...   \n24  [ALBC, ALBL, ALBS, ALKC, ALKI, ALKL, ALKM, ALK...   \n25  [ALBC, ALBL, ALBS, ALKC, ALKI, ALKL, ALKM, ALK...   \n26  [ALBS, ALKS, CABS, CASD, CBSD, FESD, MICS, MIX...   \n27  [QGTM, QGTU, QBAM, QBAU, QFPO, QGHM, QGHU, QGT...   \n28                                 [GOID, QGTD, APLT]   \n29                                             [MZGR]   \n30                                       [GOID, QGTD]   \n31                                             [MZGR]   \n32                           [FSPO, PORP, QFPO, QZPO]   \n33                                             [SYGN]   \n34                     [GRDI, FSPO, PORP, QFPO, QZPO]   \n35                                             [MZGR]   \n36                                                 []   \n37  [AFCH, AFGN, AFRH, AFSY, AFTR, ALKM, ALKU, FBA...   \n38                                             [MZGR]   \n39  [QBAM, QBAU, QFPO, QGHM, QGHU, QGTD, QGTM, QGT...   \n\n                                       GSSA_lith_desc  \n0                                      [monzogranite]  \n1                                          [tonalite]  \n2                                      [monzogranite]  \n3                                      [syenogranite]  \n4   [augen gneiss, gneiss, granitoid rock, quartz ...  \n5                                      [syenogranite]  \n6                                          [tonalite]  \n7                                      [syenogranite]  \n8                                      [monzogranite]  \n9                                      [syenogranite]  \n10                                     [monzogranite]  \n11                                                 []  \n12  [foid bearing monzodiorite, foid monzodiorite,...  \n13  [foid bearing monzodiorite, foid monzodiorite,...  \n14  [foid bearing monzodiorite, foid monzodiorite,...  \n15  [foid bearing monzodiorite, foid monzodiorite,...  \n16  [foid bearing monzodiorite, foid monzodiorite,...  \n17                                     [syenogranite]  \n18                                                 []  \n19                                                 []  \n20                                                 []  \n21  [quartz garnet rock (metasomatic), quartz garn...  \n22  [augen gneiss, gneiss, albite altered rock (se...  \n23  [albite altered rock (chemical sed precursor),...  \n24  [albite altered rock (chemical sed precursor),...  \n25  [albite altered rock (chemical sed precursor),...  \n26  [albite altered rock (sediment precursor), alk...  \n27  [quartz garnet rock (metasomatic), quartz garn...  \n28    [granitoid rock, quartz rich granitoid, aplite]  \n29                                     [monzogranite]  \n30            [granitoid rock, quartz rich granitoid]  \n31                                     [monzogranite]  \n32  [feldspar porphyry, porphyry, quartz feldspar ...  \n33                                     [syenogranite]  \n34  [granodiorite, feldspar porphyry, porphyry, qu...  \n35                                     [monzogranite]  \n36                                                 []  \n37  [alkali feldspar charnockite, alkali feldspar ...  \n38                                     [monzogranite]  \n39  [quartz barite rock (metasomatic), quartz bari...  "
     },
     "execution_count": 23,
     "metadata": {},
     "output_type": "execute_result"
    }
   ],
   "source": [
    "df.head(40)"
   ]
  },
  {
   "cell_type": "code",
   "execution_count": null,
   "metadata": {},
   "outputs": [],
   "source": [
    "tagged"
   ]
  },
  {
   "cell_type": "code",
   "execution_count": null,
   "metadata": {},
   "outputs": [],
   "source": [
    "tagged[37]"
   ]
  },
  {
   "cell_type": "code",
   "execution_count": null,
   "metadata": {},
   "outputs": [],
   "source": [
    "NN = []\n",
    "for l in tagged:\n",
    "    for w,pos in l:\n",
    "        if pos == 'NN':\n",
    "            NN.append(w)"
   ]
  },
  {
   "cell_type": "code",
   "execution_count": null,
   "metadata": {},
   "outputs": [],
   "source": [
    "NN"
   ]
  },
  {
   "cell_type": "code",
   "execution_count": null,
   "metadata": {},
   "outputs": [],
   "source": [
    "# Output final tables to Excel\n",
    "now = datetime.now().strftime(\"%Y%m%d_%H%M\")\n",
    "\n",
    "with pd.ExcelWriter(out_path+'\\\\'+now+'_SA_geodata_lithology.xlsx') as writer:\n",
    "    df.to_excel(writer, sheet_name = 'mapped_lithology', index=False)\n",
    "   "
   ]
  },
  {
   "cell_type": "code",
   "execution_count": null,
   "metadata": {},
   "outputs": [],
   "source": []
  }
 ]
}